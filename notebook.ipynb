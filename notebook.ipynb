{
 "cells": [
  {
   "cell_type": "code",
   "execution_count": 1,
   "metadata": {},
   "outputs": [],
   "source": [
    "#On importe les librairies\n",
    "import numpy as np\n",
    "import pandas as pd\n",
    "import matplotlib.pyplot as plt\n",
    "import seaborn as sns\n",
    "%matplotlib inline\n",
    "\n",
    "# Pour éviter d'avoir les messages warning\n",
    "import warnings\n",
    "warnings.filterwarnings('ignore')"
   ]
  },
  {
   "cell_type": "code",
   "execution_count": 3,
   "metadata": {},
   "outputs": [],
   "source": [
    "#On ouvre le fichier 'population.csv' dans un dataframe appelé 'df_popu'\n",
    "df_popu = pd.read_csv(filepath_or_buffer= 'population.csv' ,sep = ',' ,header = 0 , index_col = 0)"
   ]
  },
  {
   "cell_type": "markdown",
   "metadata": {},
   "source": [
    "\tUn fichier de population qui inclut :\n",
    "\n",
    "#-\tLe pays.\n",
    "\n",
    "#-\tL’année.\n",
    "\n",
    "#-\tLa population du pays, exprimée en milliers d’habitants."
   ]
  },
  {
   "cell_type": "code",
   "execution_count": 4,
   "metadata": {},
   "outputs": [
    {
     "data": {
      "text/html": [
       "<div>\n",
       "<style scoped>\n",
       "    .dataframe tbody tr th:only-of-type {\n",
       "        vertical-align: middle;\n",
       "    }\n",
       "\n",
       "    .dataframe tbody tr th {\n",
       "        vertical-align: top;\n",
       "    }\n",
       "\n",
       "    .dataframe thead th {\n",
       "        text-align: right;\n",
       "    }\n",
       "</style>\n",
       "<table border=\"1\" class=\"dataframe\">\n",
       "  <thead>\n",
       "    <tr style=\"text-align: right;\">\n",
       "      <th></th>\n",
       "      <th>Année</th>\n",
       "      <th>Valeur</th>\n",
       "    </tr>\n",
       "    <tr>\n",
       "      <th>Zone</th>\n",
       "      <th></th>\n",
       "      <th></th>\n",
       "    </tr>\n",
       "  </thead>\n",
       "  <tbody>\n",
       "    <tr>\n",
       "      <th>Afghanistan</th>\n",
       "      <td>2013</td>\n",
       "      <td>32269.589</td>\n",
       "    </tr>\n",
       "    <tr>\n",
       "      <th>Afghanistan</th>\n",
       "      <td>2014</td>\n",
       "      <td>33370.794</td>\n",
       "    </tr>\n",
       "    <tr>\n",
       "      <th>Afghanistan</th>\n",
       "      <td>2015</td>\n",
       "      <td>34413.603</td>\n",
       "    </tr>\n",
       "    <tr>\n",
       "      <th>Afghanistan</th>\n",
       "      <td>2016</td>\n",
       "      <td>35383.032</td>\n",
       "    </tr>\n",
       "    <tr>\n",
       "      <th>Afghanistan</th>\n",
       "      <td>2017</td>\n",
       "      <td>36296.113</td>\n",
       "    </tr>\n",
       "    <tr>\n",
       "      <th>Afghanistan</th>\n",
       "      <td>2018</td>\n",
       "      <td>37171.921</td>\n",
       "    </tr>\n",
       "    <tr>\n",
       "      <th>Afrique du Sud</th>\n",
       "      <td>2013</td>\n",
       "      <td>53687.121</td>\n",
       "    </tr>\n",
       "    <tr>\n",
       "      <th>Afrique du Sud</th>\n",
       "      <td>2014</td>\n",
       "      <td>54544.186</td>\n",
       "    </tr>\n",
       "    <tr>\n",
       "      <th>Afrique du Sud</th>\n",
       "      <td>2015</td>\n",
       "      <td>55386.367</td>\n",
       "    </tr>\n",
       "    <tr>\n",
       "      <th>Afrique du Sud</th>\n",
       "      <td>2016</td>\n",
       "      <td>56207.646</td>\n",
       "    </tr>\n",
       "  </tbody>\n",
       "</table>\n",
       "</div>"
      ],
      "text/plain": [
       "                Année     Valeur\n",
       "Zone                            \n",
       "Afghanistan      2013  32269.589\n",
       "Afghanistan      2014  33370.794\n",
       "Afghanistan      2015  34413.603\n",
       "Afghanistan      2016  35383.032\n",
       "Afghanistan      2017  36296.113\n",
       "Afghanistan      2018  37171.921\n",
       "Afrique du Sud   2013  53687.121\n",
       "Afrique du Sud   2014  54544.186\n",
       "Afrique du Sud   2015  55386.367\n",
       "Afrique du Sud   2016  56207.646"
      ]
     },
     "execution_count": 4,
     "metadata": {},
     "output_type": "execute_result"
    }
   ],
   "source": [
    "#On effectue un premier apperçu de df_popu\n",
    "df_popu.head(10)"
   ]
  },
  {
   "cell_type": "code",
   "execution_count": 5,
   "metadata": {},
   "outputs": [
    {
     "data": {
      "text/html": [
       "<div>\n",
       "<style scoped>\n",
       "    .dataframe tbody tr th:only-of-type {\n",
       "        vertical-align: middle;\n",
       "    }\n",
       "\n",
       "    .dataframe tbody tr th {\n",
       "        vertical-align: top;\n",
       "    }\n",
       "\n",
       "    .dataframe thead th {\n",
       "        text-align: right;\n",
       "    }\n",
       "</style>\n",
       "<table border=\"1\" class=\"dataframe\">\n",
       "  <thead>\n",
       "    <tr style=\"text-align: right;\">\n",
       "      <th></th>\n",
       "      <th>Année</th>\n",
       "      <th>Valeur</th>\n",
       "    </tr>\n",
       "  </thead>\n",
       "  <tbody>\n",
       "    <tr>\n",
       "      <th>count</th>\n",
       "      <td>1416.000000</td>\n",
       "      <td>1.416000e+03</td>\n",
       "    </tr>\n",
       "    <tr>\n",
       "      <th>mean</th>\n",
       "      <td>2015.500000</td>\n",
       "      <td>3.144793e+04</td>\n",
       "    </tr>\n",
       "    <tr>\n",
       "      <th>std</th>\n",
       "      <td>1.708428</td>\n",
       "      <td>1.300812e+05</td>\n",
       "    </tr>\n",
       "    <tr>\n",
       "      <th>min</th>\n",
       "      <td>2013.000000</td>\n",
       "      <td>7.930000e-01</td>\n",
       "    </tr>\n",
       "    <tr>\n",
       "      <th>25%</th>\n",
       "      <td>2014.000000</td>\n",
       "      <td>3.783410e+02</td>\n",
       "    </tr>\n",
       "    <tr>\n",
       "      <th>50%</th>\n",
       "      <td>2015.500000</td>\n",
       "      <td>5.126480e+03</td>\n",
       "    </tr>\n",
       "    <tr>\n",
       "      <th>75%</th>\n",
       "      <td>2017.000000</td>\n",
       "      <td>1.930666e+04</td>\n",
       "    </tr>\n",
       "    <tr>\n",
       "      <th>max</th>\n",
       "      <td>2018.000000</td>\n",
       "      <td>1.427648e+06</td>\n",
       "    </tr>\n",
       "  </tbody>\n",
       "</table>\n",
       "</div>"
      ],
      "text/plain": [
       "             Année        Valeur\n",
       "count  1416.000000  1.416000e+03\n",
       "mean   2015.500000  3.144793e+04\n",
       "std       1.708428  1.300812e+05\n",
       "min    2013.000000  7.930000e-01\n",
       "25%    2014.000000  3.783410e+02\n",
       "50%    2015.500000  5.126480e+03\n",
       "75%    2017.000000  1.930666e+04\n",
       "max    2018.000000  1.427648e+06"
      ]
     },
     "execution_count": 5,
     "metadata": {},
     "output_type": "execute_result"
    }
   ],
   "source": [
    "#On regarde une description de df_popu\n",
    "df_popu.describe()"
   ]
  },
  {
   "cell_type": "code",
   "execution_count": 6,
   "metadata": {},
   "outputs": [
    {
     "name": "stdout",
     "output_type": "stream",
     "text": [
      "<class 'pandas.core.frame.DataFrame'>\n",
      "Index: 1416 entries, Afghanistan to Zimbabwe\n",
      "Data columns (total 2 columns):\n",
      " #   Column  Non-Null Count  Dtype  \n",
      "---  ------  --------------  -----  \n",
      " 0   Année   1416 non-null   int64  \n",
      " 1   Valeur  1416 non-null   float64\n",
      "dtypes: float64(1), int64(1)\n",
      "memory usage: 33.2+ KB\n"
     ]
    }
   ],
   "source": [
    "#On regarde les informations concernant df_popu\n",
    "df_popu.info()"
   ]
  },
  {
   "cell_type": "code",
   "execution_count": 7,
   "metadata": {},
   "outputs": [],
   "source": [
    "#On ouvre le fichier 'sous_nutrition.csv' dans un dataframe appelé 'df_nutri'\n",
    "df_nutri = pd.read_csv(filepath_or_buffer= 'sous_nutrition.csv' ,sep = ',' ,header = 0 , index_col = 0)"
   ]
  },
  {
   "cell_type": "markdown",
   "metadata": {},
   "source": [
    "#Un fichier d’insécurité alimentaire, qui inclut :\n",
    "\n",
    "#-\tLe pays.\n",
    "\n",
    "#-\tIntervalle d’années.\n",
    "\n",
    "#-\tLe nombre de personnes en sous-alimentation en millions d’habitants (ex. : pour l’intervalle 2012-2014, le nombre de personnes correspond à la moyenne sur ces 3 années, on peut le résumer en 2013).\n"
   ]
  },
  {
   "cell_type": "code",
   "execution_count": 8,
   "metadata": {},
   "outputs": [
    {
     "data": {
      "text/html": [
       "<div>\n",
       "<style scoped>\n",
       "    .dataframe tbody tr th:only-of-type {\n",
       "        vertical-align: middle;\n",
       "    }\n",
       "\n",
       "    .dataframe tbody tr th {\n",
       "        vertical-align: top;\n",
       "    }\n",
       "\n",
       "    .dataframe thead th {\n",
       "        text-align: right;\n",
       "    }\n",
       "</style>\n",
       "<table border=\"1\" class=\"dataframe\">\n",
       "  <thead>\n",
       "    <tr style=\"text-align: right;\">\n",
       "      <th></th>\n",
       "      <th>Année</th>\n",
       "      <th>Valeur</th>\n",
       "    </tr>\n",
       "    <tr>\n",
       "      <th>Zone</th>\n",
       "      <th></th>\n",
       "      <th></th>\n",
       "    </tr>\n",
       "  </thead>\n",
       "  <tbody>\n",
       "    <tr>\n",
       "      <th>Afghanistan</th>\n",
       "      <td>2012-2014</td>\n",
       "      <td>8.6</td>\n",
       "    </tr>\n",
       "    <tr>\n",
       "      <th>Afghanistan</th>\n",
       "      <td>2013-2015</td>\n",
       "      <td>8.8</td>\n",
       "    </tr>\n",
       "    <tr>\n",
       "      <th>Afghanistan</th>\n",
       "      <td>2014-2016</td>\n",
       "      <td>8.9</td>\n",
       "    </tr>\n",
       "    <tr>\n",
       "      <th>Afghanistan</th>\n",
       "      <td>2015-2017</td>\n",
       "      <td>9.7</td>\n",
       "    </tr>\n",
       "    <tr>\n",
       "      <th>Afghanistan</th>\n",
       "      <td>2016-2018</td>\n",
       "      <td>10.5</td>\n",
       "    </tr>\n",
       "    <tr>\n",
       "      <th>Afghanistan</th>\n",
       "      <td>2017-2019</td>\n",
       "      <td>11.1</td>\n",
       "    </tr>\n",
       "    <tr>\n",
       "      <th>Afrique du Sud</th>\n",
       "      <td>2012-2014</td>\n",
       "      <td>2.2</td>\n",
       "    </tr>\n",
       "    <tr>\n",
       "      <th>Afrique du Sud</th>\n",
       "      <td>2013-2015</td>\n",
       "      <td>2.5</td>\n",
       "    </tr>\n",
       "    <tr>\n",
       "      <th>Afrique du Sud</th>\n",
       "      <td>2014-2016</td>\n",
       "      <td>2.8</td>\n",
       "    </tr>\n",
       "    <tr>\n",
       "      <th>Afrique du Sud</th>\n",
       "      <td>2015-2017</td>\n",
       "      <td>3</td>\n",
       "    </tr>\n",
       "  </tbody>\n",
       "</table>\n",
       "</div>"
      ],
      "text/plain": [
       "                    Année Valeur\n",
       "Zone                            \n",
       "Afghanistan     2012-2014    8.6\n",
       "Afghanistan     2013-2015    8.8\n",
       "Afghanistan     2014-2016    8.9\n",
       "Afghanistan     2015-2017    9.7\n",
       "Afghanistan     2016-2018   10.5\n",
       "Afghanistan     2017-2019   11.1\n",
       "Afrique du Sud  2012-2014    2.2\n",
       "Afrique du Sud  2013-2015    2.5\n",
       "Afrique du Sud  2014-2016    2.8\n",
       "Afrique du Sud  2015-2017      3"
      ]
     },
     "execution_count": 8,
     "metadata": {},
     "output_type": "execute_result"
    }
   ],
   "source": [
    "#On effectue un premier apperçu de df_nutri\n",
    "df_nutri.head(10)"
   ]
  },
  {
   "cell_type": "code",
   "execution_count": 9,
   "metadata": {},
   "outputs": [
    {
     "data": {
      "text/html": [
       "<div>\n",
       "<style scoped>\n",
       "    .dataframe tbody tr th:only-of-type {\n",
       "        vertical-align: middle;\n",
       "    }\n",
       "\n",
       "    .dataframe tbody tr th {\n",
       "        vertical-align: top;\n",
       "    }\n",
       "\n",
       "    .dataframe thead th {\n",
       "        text-align: right;\n",
       "    }\n",
       "</style>\n",
       "<table border=\"1\" class=\"dataframe\">\n",
       "  <thead>\n",
       "    <tr style=\"text-align: right;\">\n",
       "      <th></th>\n",
       "      <th>Année</th>\n",
       "      <th>Valeur</th>\n",
       "    </tr>\n",
       "  </thead>\n",
       "  <tbody>\n",
       "    <tr>\n",
       "      <th>count</th>\n",
       "      <td>1218</td>\n",
       "      <td>624</td>\n",
       "    </tr>\n",
       "    <tr>\n",
       "      <th>unique</th>\n",
       "      <td>6</td>\n",
       "      <td>139</td>\n",
       "    </tr>\n",
       "    <tr>\n",
       "      <th>top</th>\n",
       "      <td>2013-2015</td>\n",
       "      <td>&lt;0.1</td>\n",
       "    </tr>\n",
       "    <tr>\n",
       "      <th>freq</th>\n",
       "      <td>203</td>\n",
       "      <td>120</td>\n",
       "    </tr>\n",
       "  </tbody>\n",
       "</table>\n",
       "</div>"
      ],
      "text/plain": [
       "            Année Valeur\n",
       "count        1218    624\n",
       "unique          6    139\n",
       "top     2013-2015   <0.1\n",
       "freq          203    120"
      ]
     },
     "execution_count": 9,
     "metadata": {},
     "output_type": "execute_result"
    }
   ],
   "source": [
    "#On regarde une description de df_nutri\n",
    "df_nutri.describe()"
   ]
  },
  {
   "cell_type": "code",
   "execution_count": 10,
   "metadata": {},
   "outputs": [
    {
     "name": "stdout",
     "output_type": "stream",
     "text": [
      "<class 'pandas.core.frame.DataFrame'>\n",
      "Index: 1218 entries, Afghanistan to Zimbabwe\n",
      "Data columns (total 2 columns):\n",
      " #   Column  Non-Null Count  Dtype \n",
      "---  ------  --------------  ----- \n",
      " 0   Année   1218 non-null   object\n",
      " 1   Valeur  624 non-null    object\n",
      "dtypes: object(2)\n",
      "memory usage: 28.5+ KB\n"
     ]
    }
   ],
   "source": [
    "#On regarde les informations concernant df_nutri\n",
    "df_nutri.info()"
   ]
  },
  {
   "cell_type": "code",
   "execution_count": null,
   "metadata": {},
   "outputs": [],
   "source": []
  },
  {
   "cell_type": "markdown",
   "metadata": {},
   "source": [
    "##                                            Question 1: état de sous-nutrition"
   ]
  },
  {
   "cell_type": "code",
   "execution_count": null,
   "metadata": {},
   "outputs": [],
   "source": []
  },
  {
   "cell_type": "code",
   "execution_count": 11,
   "metadata": {},
   "outputs": [
    {
     "name": "stdout",
     "output_type": "stream",
     "text": [
      "['2012-2014' '2013-2015' '2014-2016' '2015-2017' '2016-2018' '2017-2019']\n"
     ]
    }
   ],
   "source": [
    "#On regarde les valeur unique de la colonne \"Année\" de df_nutri\n",
    "print(df_nutri['Année'].unique())"
   ]
  },
  {
   "cell_type": "code",
   "execution_count": 12,
   "metadata": {},
   "outputs": [],
   "source": [
    "# on remplace les valeurs de \"Année\" du dataframe df_nutri\n",
    "df_nutri['Année'] = df_nutri['Année'].replace(['2012-2014', '2013-2015','2014-2016','2015-2017','2016-2018','2017-2019'],['2013', '2014','2015','2016','2017','2018'])\n",
    "\n",
    "#on change le type de la colonne 'Année' de df_nutri en 'int' pour la merge\n",
    "df_nutri['Année']=df_nutri['Année'].astype(int)"
   ]
  },
  {
   "cell_type": "code",
   "execution_count": 13,
   "metadata": {},
   "outputs": [],
   "source": [
    "#On merge les df_popu et df_nutri ensemble sur les colonnes 'Zone' et Année' dans une nouveau df appelé 'df1'\n",
    "df1=df_popu.merge(right=df_nutri, on=['Zone','Année'] )"
   ]
  },
  {
   "cell_type": "code",
   "execution_count": 14,
   "metadata": {},
   "outputs": [],
   "source": [
    "#on change le nom de la colonne 'valeur_x' en 'valeur_population' et 'valeur_y' en 'valeur_sous_nutrition'\n",
    "df1= df1.rename(columns = {'Valeur_x': 'valeur_population','Valeur_y': 'valeur_sous_nutrition'})\n"
   ]
  },
  {
   "cell_type": "code",
   "execution_count": 15,
   "metadata": {},
   "outputs": [],
   "source": [
    "#On change le type objet de \"valeur_sous_nutrition\" en numerique\n",
    "df1['valeur_sous_nutrition'] = pd.to_numeric(df1['valeur_sous_nutrition'],errors = 'coerce')"
   ]
  },
  {
   "cell_type": "code",
   "execution_count": 16,
   "metadata": {},
   "outputs": [],
   "source": [
    "#On garde maintenant que les données concernant l'année 2017 dans un nouveau dataframe df2017\n",
    "df2017 =df1[df1.Année==2017]"
   ]
  },
  {
   "cell_type": "code",
   "execution_count": 17,
   "metadata": {},
   "outputs": [
    {
     "data": {
      "text/plain": [
       "'Chine, continentale'"
      ]
     },
     "execution_count": 17,
     "metadata": {},
     "output_type": "execute_result"
    }
   ],
   "source": [
    "#on recherche la valeur_population maximal \n",
    "df2017['valeur_population'].idxmax(axis = 0)"
   ]
  },
  {
   "cell_type": "code",
   "execution_count": 18,
   "metadata": {},
   "outputs": [
    {
     "name": "stdout",
     "output_type": "stream",
     "text": [
      "Année                       2017.000\n",
      "valeur_population        1421021.791\n",
      "valeur_sous_nutrition            NaN\n",
      "Name: Chine, continentale, dtype: float64\n"
     ]
    }
   ],
   "source": [
    "#on affiche les informations sur la chine continentale\n",
    "print(df2017.loc['Chine, continentale'])"
   ]
  },
  {
   "cell_type": "code",
   "execution_count": 19,
   "metadata": {},
   "outputs": [
    {
     "data": {
      "text/plain": [
       "'Tokélaou'"
      ]
     },
     "execution_count": 19,
     "metadata": {},
     "output_type": "execute_result"
    }
   ],
   "source": [
    "#on recherche la valeur_population minimal \n",
    "df2017['valeur_population'].idxmin(axis = 0)"
   ]
  },
  {
   "cell_type": "code",
   "execution_count": 20,
   "metadata": {},
   "outputs": [
    {
     "name": "stdout",
     "output_type": "stream",
     "text": [
      "Année                    2017.0\n",
      "valeur_population           1.3\n",
      "valeur_sous_nutrition       NaN\n",
      "Name: Tokélaou, dtype: float64\n"
     ]
    }
   ],
   "source": [
    "#on affiche les informations sur le tokelaou\n",
    "print(df2017.loc['Tokélaou'])"
   ]
  },
  {
   "cell_type": "code",
   "execution_count": 21,
   "metadata": {},
   "outputs": [
    {
     "name": "stdout",
     "output_type": "stream",
     "text": [
      "[2017]\n"
     ]
    }
   ],
   "source": [
    "#On regarde les valeur unique de la colonne \"Année\" de df2017\n",
    "print(df2017['Année'].unique())\n",
    "#on a bien uniquement l'année 2017"
   ]
  },
  {
   "cell_type": "code",
   "execution_count": 22,
   "metadata": {},
   "outputs": [],
   "source": [
    "#on multiplie les valeur de la colonne 'valeur_sous_nutrition' par 1000 pour obtenir une valeur en millier\n",
    "df2017['valeur_sous_nutrition'] = df2017['valeur_sous_nutrition'] * 1000"
   ]
  },
  {
   "cell_type": "code",
   "execution_count": 23,
   "metadata": {},
   "outputs": [
    {
     "data": {
      "text/html": [
       "<div>\n",
       "<style scoped>\n",
       "    .dataframe tbody tr th:only-of-type {\n",
       "        vertical-align: middle;\n",
       "    }\n",
       "\n",
       "    .dataframe tbody tr th {\n",
       "        vertical-align: top;\n",
       "    }\n",
       "\n",
       "    .dataframe thead th {\n",
       "        text-align: right;\n",
       "    }\n",
       "</style>\n",
       "<table border=\"1\" class=\"dataframe\">\n",
       "  <thead>\n",
       "    <tr style=\"text-align: right;\">\n",
       "      <th></th>\n",
       "      <th>Année</th>\n",
       "      <th>valeur_population</th>\n",
       "      <th>valeur_sous_nutrition</th>\n",
       "    </tr>\n",
       "    <tr>\n",
       "      <th>Zone</th>\n",
       "      <th></th>\n",
       "      <th></th>\n",
       "      <th></th>\n",
       "    </tr>\n",
       "  </thead>\n",
       "  <tbody>\n",
       "    <tr>\n",
       "      <th>Afghanistan</th>\n",
       "      <td>2017</td>\n",
       "      <td>36296.113</td>\n",
       "      <td>10500.0</td>\n",
       "    </tr>\n",
       "    <tr>\n",
       "      <th>Afrique du Sud</th>\n",
       "      <td>2017</td>\n",
       "      <td>57009.756</td>\n",
       "      <td>3100.0</td>\n",
       "    </tr>\n",
       "    <tr>\n",
       "      <th>Albanie</th>\n",
       "      <td>2017</td>\n",
       "      <td>2884.169</td>\n",
       "      <td>100.0</td>\n",
       "    </tr>\n",
       "    <tr>\n",
       "      <th>Algérie</th>\n",
       "      <td>2017</td>\n",
       "      <td>41389.189</td>\n",
       "      <td>1300.0</td>\n",
       "    </tr>\n",
       "    <tr>\n",
       "      <th>Allemagne</th>\n",
       "      <td>2017</td>\n",
       "      <td>82658.409</td>\n",
       "      <td>NaN</td>\n",
       "    </tr>\n",
       "    <tr>\n",
       "      <th>Andorre</th>\n",
       "      <td>2017</td>\n",
       "      <td>77.001</td>\n",
       "      <td>NaN</td>\n",
       "    </tr>\n",
       "    <tr>\n",
       "      <th>Angola</th>\n",
       "      <td>2017</td>\n",
       "      <td>29816.766</td>\n",
       "      <td>5800.0</td>\n",
       "    </tr>\n",
       "    <tr>\n",
       "      <th>Antigua-et-Barbuda</th>\n",
       "      <td>2017</td>\n",
       "      <td>95.426</td>\n",
       "      <td>NaN</td>\n",
       "    </tr>\n",
       "    <tr>\n",
       "      <th>Arabie saoudite</th>\n",
       "      <td>2017</td>\n",
       "      <td>33101.179</td>\n",
       "      <td>1600.0</td>\n",
       "    </tr>\n",
       "    <tr>\n",
       "      <th>Argentine</th>\n",
       "      <td>2017</td>\n",
       "      <td>43937.140</td>\n",
       "      <td>1500.0</td>\n",
       "    </tr>\n",
       "  </tbody>\n",
       "</table>\n",
       "</div>"
      ],
      "text/plain": [
       "                    Année  valeur_population  valeur_sous_nutrition\n",
       "Zone                                                               \n",
       "Afghanistan          2017          36296.113                10500.0\n",
       "Afrique du Sud       2017          57009.756                 3100.0\n",
       "Albanie              2017           2884.169                  100.0\n",
       "Algérie              2017          41389.189                 1300.0\n",
       "Allemagne            2017          82658.409                    NaN\n",
       "Andorre              2017             77.001                    NaN\n",
       "Angola               2017          29816.766                 5800.0\n",
       "Antigua-et-Barbuda   2017             95.426                    NaN\n",
       "Arabie saoudite      2017          33101.179                 1600.0\n",
       "Argentine            2017          43937.140                 1500.0"
      ]
     },
     "execution_count": 23,
     "metadata": {},
     "output_type": "execute_result"
    }
   ],
   "source": [
    "#On affiche notre dataframe df2017\n",
    "df2017.head(10)"
   ]
  },
  {
   "cell_type": "code",
   "execution_count": 24,
   "metadata": {},
   "outputs": [
    {
     "name": "stdout",
     "output_type": "stream",
     "text": [
      "En 2017 la population atteint un total de: 7.544 milliard d'habitants\n",
      "En 2017 la population en sous nutrition atteint un total de: 535.7 millions d'habitants\n"
     ]
    }
   ],
   "source": [
    "#on calcule la somme de la population en 2017\n",
    "total_population2017 = np.round(df2017['valeur_population'].sum(),3)\n",
    "#On divise le total population par 1000000 pour avoir un resultat en Milliard d'habitant\n",
    "population2017 = np.round(total_population2017/1000000,3)\n",
    "#on affiche la somme de la population en 2017\n",
    "print (\"En 2017 la population atteint un total de:\",population2017,\"milliard d'habitants\")\n",
    "#on calcule la somme de la population en sous nutrition en 2017\n",
    "total_sous_nutrition2017 = df2017['valeur_sous_nutrition'].sum()\n",
    "#On divise le total population en sous nutrition par 1000 pour avoir un resultat en Millions d'habitants\n",
    "sous_nutrition2017 = np.round(total_sous_nutrition2017/1000,3)\n",
    "#on affiche la somme de la population en sous nutrition en 2017\n",
    "print (\"En 2017 la population en sous nutrition atteint un total de:\",sous_nutrition2017,\"millions d'habitants\")"
   ]
  },
  {
   "cell_type": "code",
   "execution_count": 25,
   "metadata": {},
   "outputs": [
    {
     "name": "stdout",
     "output_type": "stream",
     "text": [
      "la proportion de personnes en état de sous-nutrition en 2017 est de: 7.1 %\n"
     ]
    }
   ],
   "source": [
    "#On calcule la propotion de population en etat de sous nutrition pour 2017\n",
    "proportion_sous_nutrition=np.round((total_sous_nutrition2017/total_population2017)*100,2)\n",
    "#On affiche le Pourcentage de population en état de sous nutrition pour 2017\n",
    "print('la proportion de personnes en état de sous-nutrition en 2017 est de:',proportion_sous_nutrition,'%')"
   ]
  },
  {
   "cell_type": "code",
   "execution_count": null,
   "metadata": {},
   "outputs": [],
   "source": []
  },
  {
   "cell_type": "markdown",
   "metadata": {},
   "source": [
    "##                                            Question 2: Nombre théorique de personne qui pourraient être nourries"
   ]
  },
  {
   "cell_type": "code",
   "execution_count": null,
   "metadata": {},
   "outputs": [],
   "source": []
  },
  {
   "cell_type": "code",
   "execution_count": 26,
   "metadata": {},
   "outputs": [],
   "source": [
    "#On ouvre le fichier csv 'dispo alimentaire' dans un dataframe aappelé df_dispo\n",
    "df_dispo = pd.read_csv(filepath_or_buffer= 'dispo_alimentaire.csv' ,sep = ',' ,header = 0 , index_col = 0)"
   ]
  },
  {
   "cell_type": "markdown",
   "metadata": {},
   "source": [
    "\tUn fichier de disponibilité alimentaire pour l’année 2017 qui contient 17 variables :\n",
    "\n",
    "#-\tLe pays.\n",
    "\n",
    "#-\tLe produit.\n",
    "\n",
    "#-\t4 variables de disponibilité alimentaire. Ces 4 variables sont exprimées dans des unités bien spécifiques, qui sont précisées directement dans le nom de la variable. À noter cependant que la notation kcal est un abus de langage, elle correspond à une calorie réelle.\n",
    "\n",
    "#-\t10 variables qui précisent les utilisations/moyens d’acquisition de la disponibilité alimentaire. Elles sont toutes exprimées en milliers de tonnes.\n",
    "\n",
    "#-\tEnfin, une variable type qui précise si le produit est d’origine animale ou végétale.\n",
    "\n",
    "#●\tLa disponibilité alimentaire correspond à la disponibilité d'aliments en quantité suffisante et d'une qualité appropriée pour l’alimentation humaine.\n",
    "\n",
    "#●\tLa disponibilité intérieure correspond à la disponibilité totale d’un aliment au sein du pays."
   ]
  },
  {
   "cell_type": "code",
   "execution_count": 27,
   "metadata": {},
   "outputs": [
    {
     "data": {
      "text/html": [
       "<div>\n",
       "<style scoped>\n",
       "    .dataframe tbody tr th:only-of-type {\n",
       "        vertical-align: middle;\n",
       "    }\n",
       "\n",
       "    .dataframe tbody tr th {\n",
       "        vertical-align: top;\n",
       "    }\n",
       "\n",
       "    .dataframe thead th {\n",
       "        text-align: right;\n",
       "    }\n",
       "</style>\n",
       "<table border=\"1\" class=\"dataframe\">\n",
       "  <thead>\n",
       "    <tr style=\"text-align: right;\">\n",
       "      <th></th>\n",
       "      <th>Aliments pour animaux</th>\n",
       "      <th>Autres Utilisations</th>\n",
       "      <th>Disponibilité alimentaire (Kcal/personne/jour)</th>\n",
       "      <th>Disponibilité alimentaire en quantité (kg/personne/an)</th>\n",
       "      <th>Disponibilité de matière grasse en quantité (g/personne/jour)</th>\n",
       "      <th>Disponibilité de protéines en quantité (g/personne/jour)</th>\n",
       "      <th>Disponibilité intérieure</th>\n",
       "      <th>Exportations - Quantité</th>\n",
       "      <th>Importations - Quantité</th>\n",
       "      <th>Nourriture</th>\n",
       "      <th>Pertes</th>\n",
       "      <th>Production</th>\n",
       "      <th>Semences</th>\n",
       "      <th>Traitement</th>\n",
       "      <th>Variation de stock</th>\n",
       "    </tr>\n",
       "  </thead>\n",
       "  <tbody>\n",
       "    <tr>\n",
       "      <th>count</th>\n",
       "      <td>2720.000000</td>\n",
       "      <td>5496.000000</td>\n",
       "      <td>14241.000000</td>\n",
       "      <td>14015.000000</td>\n",
       "      <td>11794.000000</td>\n",
       "      <td>11561.000000</td>\n",
       "      <td>15382.000000</td>\n",
       "      <td>12226.000000</td>\n",
       "      <td>14852.000000</td>\n",
       "      <td>14015.000000</td>\n",
       "      <td>4278.000000</td>\n",
       "      <td>9180.000000</td>\n",
       "      <td>2091.000000</td>\n",
       "      <td>2292.000000</td>\n",
       "      <td>6776.000000</td>\n",
       "    </tr>\n",
       "    <tr>\n",
       "      <th>mean</th>\n",
       "      <td>479.501838</td>\n",
       "      <td>157.391376</td>\n",
       "      <td>34.789832</td>\n",
       "      <td>8.719368</td>\n",
       "      <td>1.283111</td>\n",
       "      <td>1.223608</td>\n",
       "      <td>640.293460</td>\n",
       "      <td>110.596925</td>\n",
       "      <td>87.264543</td>\n",
       "      <td>347.931359</td>\n",
       "      <td>106.053763</td>\n",
       "      <td>1090.379085</td>\n",
       "      <td>73.974653</td>\n",
       "      <td>961.905323</td>\n",
       "      <td>-15.407615</td>\n",
       "    </tr>\n",
       "    <tr>\n",
       "      <th>std</th>\n",
       "      <td>4240.119637</td>\n",
       "      <td>5076.785816</td>\n",
       "      <td>107.287655</td>\n",
       "      <td>24.618223</td>\n",
       "      <td>3.680399</td>\n",
       "      <td>3.598686</td>\n",
       "      <td>9067.267153</td>\n",
       "      <td>1053.318990</td>\n",
       "      <td>717.372714</td>\n",
       "      <td>4475.704458</td>\n",
       "      <td>1113.100416</td>\n",
       "      <td>12067.344094</td>\n",
       "      <td>528.069224</td>\n",
       "      <td>10381.795904</td>\n",
       "      <td>549.834540</td>\n",
       "    </tr>\n",
       "    <tr>\n",
       "      <th>min</th>\n",
       "      <td>0.000000</td>\n",
       "      <td>0.000000</td>\n",
       "      <td>-21.000000</td>\n",
       "      <td>-1.930000</td>\n",
       "      <td>-0.030000</td>\n",
       "      <td>-0.370000</td>\n",
       "      <td>-3430.000000</td>\n",
       "      <td>-41.000000</td>\n",
       "      <td>-201.000000</td>\n",
       "      <td>-246.000000</td>\n",
       "      <td>0.000000</td>\n",
       "      <td>0.000000</td>\n",
       "      <td>0.000000</td>\n",
       "      <td>-19.000000</td>\n",
       "      <td>-39863.000000</td>\n",
       "    </tr>\n",
       "    <tr>\n",
       "      <th>25%</th>\n",
       "      <td>0.000000</td>\n",
       "      <td>0.000000</td>\n",
       "      <td>0.000000</td>\n",
       "      <td>0.060000</td>\n",
       "      <td>0.010000</td>\n",
       "      <td>0.010000</td>\n",
       "      <td>0.000000</td>\n",
       "      <td>0.000000</td>\n",
       "      <td>0.000000</td>\n",
       "      <td>0.000000</td>\n",
       "      <td>0.000000</td>\n",
       "      <td>2.000000</td>\n",
       "      <td>0.000000</td>\n",
       "      <td>0.000000</td>\n",
       "      <td>0.000000</td>\n",
       "    </tr>\n",
       "    <tr>\n",
       "      <th>50%</th>\n",
       "      <td>4.000000</td>\n",
       "      <td>0.000000</td>\n",
       "      <td>4.000000</td>\n",
       "      <td>0.830000</td>\n",
       "      <td>0.080000</td>\n",
       "      <td>0.100000</td>\n",
       "      <td>7.000000</td>\n",
       "      <td>0.000000</td>\n",
       "      <td>2.000000</td>\n",
       "      <td>5.000000</td>\n",
       "      <td>4.000000</td>\n",
       "      <td>22.000000</td>\n",
       "      <td>2.000000</td>\n",
       "      <td>6.000000</td>\n",
       "      <td>0.000000</td>\n",
       "    </tr>\n",
       "    <tr>\n",
       "      <th>75%</th>\n",
       "      <td>74.000000</td>\n",
       "      <td>4.000000</td>\n",
       "      <td>21.000000</td>\n",
       "      <td>5.190000</td>\n",
       "      <td>0.630000</td>\n",
       "      <td>0.660000</td>\n",
       "      <td>76.750000</td>\n",
       "      <td>9.000000</td>\n",
       "      <td>18.000000</td>\n",
       "      <td>52.000000</td>\n",
       "      <td>26.000000</td>\n",
       "      <td>191.250000</td>\n",
       "      <td>17.000000</td>\n",
       "      <td>69.000000</td>\n",
       "      <td>0.000000</td>\n",
       "    </tr>\n",
       "    <tr>\n",
       "      <th>max</th>\n",
       "      <td>150000.000000</td>\n",
       "      <td>347309.000000</td>\n",
       "      <td>1711.000000</td>\n",
       "      <td>430.760000</td>\n",
       "      <td>60.760000</td>\n",
       "      <td>54.970000</td>\n",
       "      <td>739267.000000</td>\n",
       "      <td>42797.000000</td>\n",
       "      <td>63381.000000</td>\n",
       "      <td>426850.000000</td>\n",
       "      <td>55047.000000</td>\n",
       "      <td>739267.000000</td>\n",
       "      <td>17060.000000</td>\n",
       "      <td>326711.000000</td>\n",
       "      <td>5284.000000</td>\n",
       "    </tr>\n",
       "  </tbody>\n",
       "</table>\n",
       "</div>"
      ],
      "text/plain": [
       "       Aliments pour animaux  Autres Utilisations  \\\n",
       "count            2720.000000          5496.000000   \n",
       "mean              479.501838           157.391376   \n",
       "std              4240.119637          5076.785816   \n",
       "min                 0.000000             0.000000   \n",
       "25%                 0.000000             0.000000   \n",
       "50%                 4.000000             0.000000   \n",
       "75%                74.000000             4.000000   \n",
       "max            150000.000000        347309.000000   \n",
       "\n",
       "       Disponibilité alimentaire (Kcal/personne/jour)  \\\n",
       "count                                    14241.000000   \n",
       "mean                                        34.789832   \n",
       "std                                        107.287655   \n",
       "min                                        -21.000000   \n",
       "25%                                          0.000000   \n",
       "50%                                          4.000000   \n",
       "75%                                         21.000000   \n",
       "max                                       1711.000000   \n",
       "\n",
       "       Disponibilité alimentaire en quantité (kg/personne/an)  \\\n",
       "count                                       14015.000000        \n",
       "mean                                            8.719368        \n",
       "std                                            24.618223        \n",
       "min                                            -1.930000        \n",
       "25%                                             0.060000        \n",
       "50%                                             0.830000        \n",
       "75%                                             5.190000        \n",
       "max                                           430.760000        \n",
       "\n",
       "       Disponibilité de matière grasse en quantité (g/personne/jour)  \\\n",
       "count                                       11794.000000               \n",
       "mean                                            1.283111               \n",
       "std                                             3.680399               \n",
       "min                                            -0.030000               \n",
       "25%                                             0.010000               \n",
       "50%                                             0.080000               \n",
       "75%                                             0.630000               \n",
       "max                                            60.760000               \n",
       "\n",
       "       Disponibilité de protéines en quantité (g/personne/jour)  \\\n",
       "count                                       11561.000000          \n",
       "mean                                            1.223608          \n",
       "std                                             3.598686          \n",
       "min                                            -0.370000          \n",
       "25%                                             0.010000          \n",
       "50%                                             0.100000          \n",
       "75%                                             0.660000          \n",
       "max                                            54.970000          \n",
       "\n",
       "       Disponibilité intérieure  Exportations - Quantité  \\\n",
       "count              15382.000000             12226.000000   \n",
       "mean                 640.293460               110.596925   \n",
       "std                 9067.267153              1053.318990   \n",
       "min                -3430.000000               -41.000000   \n",
       "25%                    0.000000                 0.000000   \n",
       "50%                    7.000000                 0.000000   \n",
       "75%                   76.750000                 9.000000   \n",
       "max               739267.000000             42797.000000   \n",
       "\n",
       "       Importations - Quantité     Nourriture        Pertes     Production  \\\n",
       "count             14852.000000   14015.000000   4278.000000    9180.000000   \n",
       "mean                 87.264543     347.931359    106.053763    1090.379085   \n",
       "std                 717.372714    4475.704458   1113.100416   12067.344094   \n",
       "min                -201.000000    -246.000000      0.000000       0.000000   \n",
       "25%                   0.000000       0.000000      0.000000       2.000000   \n",
       "50%                   2.000000       5.000000      4.000000      22.000000   \n",
       "75%                  18.000000      52.000000     26.000000     191.250000   \n",
       "max               63381.000000  426850.000000  55047.000000  739267.000000   \n",
       "\n",
       "           Semences     Traitement  Variation de stock  \n",
       "count   2091.000000    2292.000000         6776.000000  \n",
       "mean      73.974653     961.905323          -15.407615  \n",
       "std      528.069224   10381.795904          549.834540  \n",
       "min        0.000000     -19.000000       -39863.000000  \n",
       "25%        0.000000       0.000000            0.000000  \n",
       "50%        2.000000       6.000000            0.000000  \n",
       "75%       17.000000      69.000000            0.000000  \n",
       "max    17060.000000  326711.000000         5284.000000  "
      ]
     },
     "execution_count": 27,
     "metadata": {},
     "output_type": "execute_result"
    }
   ],
   "source": [
    "#On affiche une description de df_dispo\n",
    "df_dispo.describe()"
   ]
  },
  {
   "cell_type": "code",
   "execution_count": 28,
   "metadata": {},
   "outputs": [
    {
     "name": "stdout",
     "output_type": "stream",
     "text": [
      "<class 'pandas.core.frame.DataFrame'>\n",
      "Index: 15605 entries, Afghanistan to Îles Salomon\n",
      "Data columns (total 17 columns):\n",
      " #   Column                                                         Non-Null Count  Dtype  \n",
      "---  ------                                                         --------------  -----  \n",
      " 0   Produit                                                        15605 non-null  object \n",
      " 1   Origine                                                        15605 non-null  object \n",
      " 2   Aliments pour animaux                                          2720 non-null   float64\n",
      " 3   Autres Utilisations                                            5496 non-null   float64\n",
      " 4   Disponibilité alimentaire (Kcal/personne/jour)                 14241 non-null  float64\n",
      " 5   Disponibilité alimentaire en quantité (kg/personne/an)         14015 non-null  float64\n",
      " 6   Disponibilité de matière grasse en quantité (g/personne/jour)  11794 non-null  float64\n",
      " 7   Disponibilité de protéines en quantité (g/personne/jour)       11561 non-null  float64\n",
      " 8   Disponibilité intérieure                                       15382 non-null  float64\n",
      " 9   Exportations - Quantité                                        12226 non-null  float64\n",
      " 10  Importations - Quantité                                        14852 non-null  float64\n",
      " 11  Nourriture                                                     14015 non-null  float64\n",
      " 12  Pertes                                                         4278 non-null   float64\n",
      " 13  Production                                                     9180 non-null   float64\n",
      " 14  Semences                                                       2091 non-null   float64\n",
      " 15  Traitement                                                     2292 non-null   float64\n",
      " 16  Variation de stock                                             6776 non-null   float64\n",
      "dtypes: float64(15), object(2)\n",
      "memory usage: 2.1+ MB\n"
     ]
    }
   ],
   "source": [
    "#On affiche les informations de df_dispo\n",
    "df_dispo.info()"
   ]
  },
  {
   "cell_type": "code",
   "execution_count": 29,
   "metadata": {},
   "outputs": [
    {
     "data": {
      "text/html": [
       "<div>\n",
       "<style scoped>\n",
       "    .dataframe tbody tr th:only-of-type {\n",
       "        vertical-align: middle;\n",
       "    }\n",
       "\n",
       "    .dataframe tbody tr th {\n",
       "        vertical-align: top;\n",
       "    }\n",
       "\n",
       "    .dataframe thead th {\n",
       "        text-align: right;\n",
       "    }\n",
       "</style>\n",
       "<table border=\"1\" class=\"dataframe\">\n",
       "  <thead>\n",
       "    <tr style=\"text-align: right;\">\n",
       "      <th></th>\n",
       "      <th>Produit</th>\n",
       "      <th>Origine</th>\n",
       "      <th>Aliments pour animaux</th>\n",
       "      <th>Autres Utilisations</th>\n",
       "      <th>Disponibilité alimentaire (Kcal/personne/jour)</th>\n",
       "      <th>Disponibilité alimentaire en quantité (kg/personne/an)</th>\n",
       "      <th>Disponibilité de matière grasse en quantité (g/personne/jour)</th>\n",
       "      <th>Disponibilité de protéines en quantité (g/personne/jour)</th>\n",
       "      <th>Disponibilité intérieure</th>\n",
       "      <th>Exportations - Quantité</th>\n",
       "      <th>Importations - Quantité</th>\n",
       "      <th>Nourriture</th>\n",
       "      <th>Pertes</th>\n",
       "      <th>Production</th>\n",
       "      <th>Semences</th>\n",
       "      <th>Traitement</th>\n",
       "      <th>Variation de stock</th>\n",
       "    </tr>\n",
       "    <tr>\n",
       "      <th>Zone</th>\n",
       "      <th></th>\n",
       "      <th></th>\n",
       "      <th></th>\n",
       "      <th></th>\n",
       "      <th></th>\n",
       "      <th></th>\n",
       "      <th></th>\n",
       "      <th></th>\n",
       "      <th></th>\n",
       "      <th></th>\n",
       "      <th></th>\n",
       "      <th></th>\n",
       "      <th></th>\n",
       "      <th></th>\n",
       "      <th></th>\n",
       "      <th></th>\n",
       "      <th></th>\n",
       "    </tr>\n",
       "  </thead>\n",
       "  <tbody>\n",
       "    <tr>\n",
       "      <th>Afghanistan</th>\n",
       "      <td>Abats Comestible</td>\n",
       "      <td>animale</td>\n",
       "      <td>NaN</td>\n",
       "      <td>NaN</td>\n",
       "      <td>5.0</td>\n",
       "      <td>1.72</td>\n",
       "      <td>0.20</td>\n",
       "      <td>0.77</td>\n",
       "      <td>53.0</td>\n",
       "      <td>NaN</td>\n",
       "      <td>NaN</td>\n",
       "      <td>53.0</td>\n",
       "      <td>NaN</td>\n",
       "      <td>53.0</td>\n",
       "      <td>NaN</td>\n",
       "      <td>NaN</td>\n",
       "      <td>NaN</td>\n",
       "    </tr>\n",
       "    <tr>\n",
       "      <th>Afghanistan</th>\n",
       "      <td>Agrumes, Autres</td>\n",
       "      <td>vegetale</td>\n",
       "      <td>NaN</td>\n",
       "      <td>NaN</td>\n",
       "      <td>1.0</td>\n",
       "      <td>1.29</td>\n",
       "      <td>0.01</td>\n",
       "      <td>0.02</td>\n",
       "      <td>41.0</td>\n",
       "      <td>2.0</td>\n",
       "      <td>40.0</td>\n",
       "      <td>39.0</td>\n",
       "      <td>2.0</td>\n",
       "      <td>3.0</td>\n",
       "      <td>NaN</td>\n",
       "      <td>NaN</td>\n",
       "      <td>NaN</td>\n",
       "    </tr>\n",
       "    <tr>\n",
       "      <th>Afghanistan</th>\n",
       "      <td>Aliments pour enfants</td>\n",
       "      <td>vegetale</td>\n",
       "      <td>NaN</td>\n",
       "      <td>NaN</td>\n",
       "      <td>1.0</td>\n",
       "      <td>0.06</td>\n",
       "      <td>0.01</td>\n",
       "      <td>0.03</td>\n",
       "      <td>2.0</td>\n",
       "      <td>NaN</td>\n",
       "      <td>2.0</td>\n",
       "      <td>2.0</td>\n",
       "      <td>NaN</td>\n",
       "      <td>NaN</td>\n",
       "      <td>NaN</td>\n",
       "      <td>NaN</td>\n",
       "      <td>NaN</td>\n",
       "    </tr>\n",
       "    <tr>\n",
       "      <th>Afghanistan</th>\n",
       "      <td>Ananas</td>\n",
       "      <td>vegetale</td>\n",
       "      <td>NaN</td>\n",
       "      <td>NaN</td>\n",
       "      <td>0.0</td>\n",
       "      <td>0.00</td>\n",
       "      <td>NaN</td>\n",
       "      <td>NaN</td>\n",
       "      <td>0.0</td>\n",
       "      <td>NaN</td>\n",
       "      <td>0.0</td>\n",
       "      <td>0.0</td>\n",
       "      <td>NaN</td>\n",
       "      <td>NaN</td>\n",
       "      <td>NaN</td>\n",
       "      <td>NaN</td>\n",
       "      <td>NaN</td>\n",
       "    </tr>\n",
       "    <tr>\n",
       "      <th>Afghanistan</th>\n",
       "      <td>Bananes</td>\n",
       "      <td>vegetale</td>\n",
       "      <td>NaN</td>\n",
       "      <td>NaN</td>\n",
       "      <td>4.0</td>\n",
       "      <td>2.70</td>\n",
       "      <td>0.02</td>\n",
       "      <td>0.05</td>\n",
       "      <td>82.0</td>\n",
       "      <td>NaN</td>\n",
       "      <td>82.0</td>\n",
       "      <td>82.0</td>\n",
       "      <td>NaN</td>\n",
       "      <td>NaN</td>\n",
       "      <td>NaN</td>\n",
       "      <td>NaN</td>\n",
       "      <td>NaN</td>\n",
       "    </tr>\n",
       "  </tbody>\n",
       "</table>\n",
       "</div>"
      ],
      "text/plain": [
       "                           Produit   Origine  Aliments pour animaux  \\\n",
       "Zone                                                                  \n",
       "Afghanistan       Abats Comestible   animale                    NaN   \n",
       "Afghanistan        Agrumes, Autres  vegetale                    NaN   \n",
       "Afghanistan  Aliments pour enfants  vegetale                    NaN   \n",
       "Afghanistan                 Ananas  vegetale                    NaN   \n",
       "Afghanistan                Bananes  vegetale                    NaN   \n",
       "\n",
       "             Autres Utilisations  \\\n",
       "Zone                               \n",
       "Afghanistan                  NaN   \n",
       "Afghanistan                  NaN   \n",
       "Afghanistan                  NaN   \n",
       "Afghanistan                  NaN   \n",
       "Afghanistan                  NaN   \n",
       "\n",
       "             Disponibilité alimentaire (Kcal/personne/jour)  \\\n",
       "Zone                                                          \n",
       "Afghanistan                                             5.0   \n",
       "Afghanistan                                             1.0   \n",
       "Afghanistan                                             1.0   \n",
       "Afghanistan                                             0.0   \n",
       "Afghanistan                                             4.0   \n",
       "\n",
       "             Disponibilité alimentaire en quantité (kg/personne/an)  \\\n",
       "Zone                                                                  \n",
       "Afghanistan                                               1.72        \n",
       "Afghanistan                                               1.29        \n",
       "Afghanistan                                               0.06        \n",
       "Afghanistan                                               0.00        \n",
       "Afghanistan                                               2.70        \n",
       "\n",
       "             Disponibilité de matière grasse en quantité (g/personne/jour)  \\\n",
       "Zone                                                                         \n",
       "Afghanistan                                               0.20               \n",
       "Afghanistan                                               0.01               \n",
       "Afghanistan                                               0.01               \n",
       "Afghanistan                                                NaN               \n",
       "Afghanistan                                               0.02               \n",
       "\n",
       "             Disponibilité de protéines en quantité (g/personne/jour)  \\\n",
       "Zone                                                                    \n",
       "Afghanistan                                               0.77          \n",
       "Afghanistan                                               0.02          \n",
       "Afghanistan                                               0.03          \n",
       "Afghanistan                                                NaN          \n",
       "Afghanistan                                               0.05          \n",
       "\n",
       "             Disponibilité intérieure  Exportations - Quantité  \\\n",
       "Zone                                                             \n",
       "Afghanistan                      53.0                      NaN   \n",
       "Afghanistan                      41.0                      2.0   \n",
       "Afghanistan                       2.0                      NaN   \n",
       "Afghanistan                       0.0                      NaN   \n",
       "Afghanistan                      82.0                      NaN   \n",
       "\n",
       "             Importations - Quantité  Nourriture  Pertes  Production  \\\n",
       "Zone                                                                   \n",
       "Afghanistan                      NaN        53.0     NaN        53.0   \n",
       "Afghanistan                     40.0        39.0     2.0         3.0   \n",
       "Afghanistan                      2.0         2.0     NaN         NaN   \n",
       "Afghanistan                      0.0         0.0     NaN         NaN   \n",
       "Afghanistan                     82.0        82.0     NaN         NaN   \n",
       "\n",
       "             Semences  Traitement  Variation de stock  \n",
       "Zone                                                   \n",
       "Afghanistan       NaN         NaN                 NaN  \n",
       "Afghanistan       NaN         NaN                 NaN  \n",
       "Afghanistan       NaN         NaN                 NaN  \n",
       "Afghanistan       NaN         NaN                 NaN  \n",
       "Afghanistan       NaN         NaN                 NaN  "
      ]
     },
     "execution_count": 29,
     "metadata": {},
     "output_type": "execute_result"
    }
   ],
   "source": [
    "#On affiche le dataframe df_dispo\n",
    "df_dispo.head()"
   ]
  },
  {
   "cell_type": "markdown",
   "metadata": {},
   "source": [
    "\n",
    " Disponibilité intérieure = Production + Importations + Variation - Exportations \n",
    " = Nourriture + Aliments animaux + Semences + Pertes + Traitement + Autres utilisations"
   ]
  },
  {
   "cell_type": "code",
   "execution_count": 30,
   "metadata": {},
   "outputs": [],
   "source": [
    "#On renomme deux pays de df2017, pour qu'ils correspondent aux. pays de df_dispo\n",
    "df2017.rename(index={'Tchéquie': 'Tchéquie (la)',\"Royaume-Uni de Grande-Bretagne et d'Irlande du Nord\": 'Royaume-Uni'}, inplace=True)\n",
    "\n",
    "#On merge la population de df2017 sur df_dispo \n",
    "df_dispo = df_dispo.merge(df2017[['valeur_population']], how = 'left',left_on = 'Zone', right_on = 'Zone')"
   ]
  },
  {
   "cell_type": "code",
   "execution_count": 31,
   "metadata": {},
   "outputs": [
    {
     "data": {
      "text/html": [
       "<div>\n",
       "<style scoped>\n",
       "    .dataframe tbody tr th:only-of-type {\n",
       "        vertical-align: middle;\n",
       "    }\n",
       "\n",
       "    .dataframe tbody tr th {\n",
       "        vertical-align: top;\n",
       "    }\n",
       "\n",
       "    .dataframe thead th {\n",
       "        text-align: right;\n",
       "    }\n",
       "</style>\n",
       "<table border=\"1\" class=\"dataframe\">\n",
       "  <thead>\n",
       "    <tr style=\"text-align: right;\">\n",
       "      <th></th>\n",
       "      <th>Produit</th>\n",
       "      <th>Origine</th>\n",
       "      <th>Aliments pour animaux</th>\n",
       "      <th>Autres Utilisations</th>\n",
       "      <th>Disponibilité alimentaire (Kcal/personne/jour)</th>\n",
       "      <th>Disponibilité alimentaire en quantité (kg/personne/an)</th>\n",
       "      <th>Disponibilité de matière grasse en quantité (g/personne/jour)</th>\n",
       "      <th>Disponibilité de protéines en quantité (g/personne/jour)</th>\n",
       "      <th>Disponibilité intérieure</th>\n",
       "      <th>Exportations - Quantité</th>\n",
       "      <th>Importations - Quantité</th>\n",
       "      <th>Nourriture</th>\n",
       "      <th>Pertes</th>\n",
       "      <th>Production</th>\n",
       "      <th>Semences</th>\n",
       "      <th>Traitement</th>\n",
       "      <th>Variation de stock</th>\n",
       "      <th>valeur_population</th>\n",
       "    </tr>\n",
       "    <tr>\n",
       "      <th>Zone</th>\n",
       "      <th></th>\n",
       "      <th></th>\n",
       "      <th></th>\n",
       "      <th></th>\n",
       "      <th></th>\n",
       "      <th></th>\n",
       "      <th></th>\n",
       "      <th></th>\n",
       "      <th></th>\n",
       "      <th></th>\n",
       "      <th></th>\n",
       "      <th></th>\n",
       "      <th></th>\n",
       "      <th></th>\n",
       "      <th></th>\n",
       "      <th></th>\n",
       "      <th></th>\n",
       "      <th></th>\n",
       "    </tr>\n",
       "  </thead>\n",
       "  <tbody>\n",
       "    <tr>\n",
       "      <th>Afghanistan</th>\n",
       "      <td>Abats Comestible</td>\n",
       "      <td>animale</td>\n",
       "      <td>NaN</td>\n",
       "      <td>NaN</td>\n",
       "      <td>5.0</td>\n",
       "      <td>1.72</td>\n",
       "      <td>0.20</td>\n",
       "      <td>0.77</td>\n",
       "      <td>53.0</td>\n",
       "      <td>NaN</td>\n",
       "      <td>NaN</td>\n",
       "      <td>53.0</td>\n",
       "      <td>NaN</td>\n",
       "      <td>53.0</td>\n",
       "      <td>NaN</td>\n",
       "      <td>NaN</td>\n",
       "      <td>NaN</td>\n",
       "      <td>36296.113</td>\n",
       "    </tr>\n",
       "    <tr>\n",
       "      <th>Afghanistan</th>\n",
       "      <td>Agrumes, Autres</td>\n",
       "      <td>vegetale</td>\n",
       "      <td>NaN</td>\n",
       "      <td>NaN</td>\n",
       "      <td>1.0</td>\n",
       "      <td>1.29</td>\n",
       "      <td>0.01</td>\n",
       "      <td>0.02</td>\n",
       "      <td>41.0</td>\n",
       "      <td>2.0</td>\n",
       "      <td>40.0</td>\n",
       "      <td>39.0</td>\n",
       "      <td>2.0</td>\n",
       "      <td>3.0</td>\n",
       "      <td>NaN</td>\n",
       "      <td>NaN</td>\n",
       "      <td>NaN</td>\n",
       "      <td>36296.113</td>\n",
       "    </tr>\n",
       "    <tr>\n",
       "      <th>Afghanistan</th>\n",
       "      <td>Aliments pour enfants</td>\n",
       "      <td>vegetale</td>\n",
       "      <td>NaN</td>\n",
       "      <td>NaN</td>\n",
       "      <td>1.0</td>\n",
       "      <td>0.06</td>\n",
       "      <td>0.01</td>\n",
       "      <td>0.03</td>\n",
       "      <td>2.0</td>\n",
       "      <td>NaN</td>\n",
       "      <td>2.0</td>\n",
       "      <td>2.0</td>\n",
       "      <td>NaN</td>\n",
       "      <td>NaN</td>\n",
       "      <td>NaN</td>\n",
       "      <td>NaN</td>\n",
       "      <td>NaN</td>\n",
       "      <td>36296.113</td>\n",
       "    </tr>\n",
       "    <tr>\n",
       "      <th>Afghanistan</th>\n",
       "      <td>Ananas</td>\n",
       "      <td>vegetale</td>\n",
       "      <td>NaN</td>\n",
       "      <td>NaN</td>\n",
       "      <td>0.0</td>\n",
       "      <td>0.00</td>\n",
       "      <td>NaN</td>\n",
       "      <td>NaN</td>\n",
       "      <td>0.0</td>\n",
       "      <td>NaN</td>\n",
       "      <td>0.0</td>\n",
       "      <td>0.0</td>\n",
       "      <td>NaN</td>\n",
       "      <td>NaN</td>\n",
       "      <td>NaN</td>\n",
       "      <td>NaN</td>\n",
       "      <td>NaN</td>\n",
       "      <td>36296.113</td>\n",
       "    </tr>\n",
       "    <tr>\n",
       "      <th>Afghanistan</th>\n",
       "      <td>Bananes</td>\n",
       "      <td>vegetale</td>\n",
       "      <td>NaN</td>\n",
       "      <td>NaN</td>\n",
       "      <td>4.0</td>\n",
       "      <td>2.70</td>\n",
       "      <td>0.02</td>\n",
       "      <td>0.05</td>\n",
       "      <td>82.0</td>\n",
       "      <td>NaN</td>\n",
       "      <td>82.0</td>\n",
       "      <td>82.0</td>\n",
       "      <td>NaN</td>\n",
       "      <td>NaN</td>\n",
       "      <td>NaN</td>\n",
       "      <td>NaN</td>\n",
       "      <td>NaN</td>\n",
       "      <td>36296.113</td>\n",
       "    </tr>\n",
       "  </tbody>\n",
       "</table>\n",
       "</div>"
      ],
      "text/plain": [
       "                           Produit   Origine  Aliments pour animaux  \\\n",
       "Zone                                                                  \n",
       "Afghanistan       Abats Comestible   animale                    NaN   \n",
       "Afghanistan        Agrumes, Autres  vegetale                    NaN   \n",
       "Afghanistan  Aliments pour enfants  vegetale                    NaN   \n",
       "Afghanistan                 Ananas  vegetale                    NaN   \n",
       "Afghanistan                Bananes  vegetale                    NaN   \n",
       "\n",
       "             Autres Utilisations  \\\n",
       "Zone                               \n",
       "Afghanistan                  NaN   \n",
       "Afghanistan                  NaN   \n",
       "Afghanistan                  NaN   \n",
       "Afghanistan                  NaN   \n",
       "Afghanistan                  NaN   \n",
       "\n",
       "             Disponibilité alimentaire (Kcal/personne/jour)  \\\n",
       "Zone                                                          \n",
       "Afghanistan                                             5.0   \n",
       "Afghanistan                                             1.0   \n",
       "Afghanistan                                             1.0   \n",
       "Afghanistan                                             0.0   \n",
       "Afghanistan                                             4.0   \n",
       "\n",
       "             Disponibilité alimentaire en quantité (kg/personne/an)  \\\n",
       "Zone                                                                  \n",
       "Afghanistan                                               1.72        \n",
       "Afghanistan                                               1.29        \n",
       "Afghanistan                                               0.06        \n",
       "Afghanistan                                               0.00        \n",
       "Afghanistan                                               2.70        \n",
       "\n",
       "             Disponibilité de matière grasse en quantité (g/personne/jour)  \\\n",
       "Zone                                                                         \n",
       "Afghanistan                                               0.20               \n",
       "Afghanistan                                               0.01               \n",
       "Afghanistan                                               0.01               \n",
       "Afghanistan                                                NaN               \n",
       "Afghanistan                                               0.02               \n",
       "\n",
       "             Disponibilité de protéines en quantité (g/personne/jour)  \\\n",
       "Zone                                                                    \n",
       "Afghanistan                                               0.77          \n",
       "Afghanistan                                               0.02          \n",
       "Afghanistan                                               0.03          \n",
       "Afghanistan                                                NaN          \n",
       "Afghanistan                                               0.05          \n",
       "\n",
       "             Disponibilité intérieure  Exportations - Quantité  \\\n",
       "Zone                                                             \n",
       "Afghanistan                      53.0                      NaN   \n",
       "Afghanistan                      41.0                      2.0   \n",
       "Afghanistan                       2.0                      NaN   \n",
       "Afghanistan                       0.0                      NaN   \n",
       "Afghanistan                      82.0                      NaN   \n",
       "\n",
       "             Importations - Quantité  Nourriture  Pertes  Production  \\\n",
       "Zone                                                                   \n",
       "Afghanistan                      NaN        53.0     NaN        53.0   \n",
       "Afghanistan                     40.0        39.0     2.0         3.0   \n",
       "Afghanistan                      2.0         2.0     NaN         NaN   \n",
       "Afghanistan                      0.0         0.0     NaN         NaN   \n",
       "Afghanistan                     82.0        82.0     NaN         NaN   \n",
       "\n",
       "             Semences  Traitement  Variation de stock  valeur_population  \n",
       "Zone                                                                      \n",
       "Afghanistan       NaN         NaN                 NaN          36296.113  \n",
       "Afghanistan       NaN         NaN                 NaN          36296.113  \n",
       "Afghanistan       NaN         NaN                 NaN          36296.113  \n",
       "Afghanistan       NaN         NaN                 NaN          36296.113  \n",
       "Afghanistan       NaN         NaN                 NaN          36296.113  "
      ]
     },
     "execution_count": 31,
     "metadata": {},
     "output_type": "execute_result"
    }
   ],
   "source": [
    "df_dispo.head()"
   ]
  },
  {
   "cell_type": "code",
   "execution_count": 32,
   "metadata": {},
   "outputs": [],
   "source": [
    "#On ajoute une colonne \"population\" qui contient le nombre d'habitant par pays convertie à l'unité\n",
    "df_dispo[\"population\"] = df_dispo[\"valeur_population\"]*1000\n",
    "\n",
    "#Puis on supprimme la colonne \"valeur_population\" qui n'est plus utile pour la suite\n",
    "del df_dispo['valeur_population']\n",
    "\n",
    "#Création une colonne Disponibilité en kcal/an\n",
    "df_dispo['Disponibilité alimentaire en million (Kcal/jour)'] = np.round((df_dispo['Disponibilité alimentaire (Kcal/personne/jour)'] * df_dispo['population'])/1000000,2)\n"
   ]
  },
  {
   "cell_type": "code",
   "execution_count": 33,
   "metadata": {},
   "outputs": [
    {
     "data": {
      "text/html": [
       "<div>\n",
       "<style scoped>\n",
       "    .dataframe tbody tr th:only-of-type {\n",
       "        vertical-align: middle;\n",
       "    }\n",
       "\n",
       "    .dataframe tbody tr th {\n",
       "        vertical-align: top;\n",
       "    }\n",
       "\n",
       "    .dataframe thead th {\n",
       "        text-align: right;\n",
       "    }\n",
       "</style>\n",
       "<table border=\"1\" class=\"dataframe\">\n",
       "  <thead>\n",
       "    <tr style=\"text-align: right;\">\n",
       "      <th></th>\n",
       "      <th>Produit</th>\n",
       "      <th>Origine</th>\n",
       "      <th>Aliments pour animaux</th>\n",
       "      <th>Autres Utilisations</th>\n",
       "      <th>Disponibilité alimentaire (Kcal/personne/jour)</th>\n",
       "      <th>Disponibilité alimentaire en quantité (kg/personne/an)</th>\n",
       "      <th>Disponibilité de matière grasse en quantité (g/personne/jour)</th>\n",
       "      <th>Disponibilité de protéines en quantité (g/personne/jour)</th>\n",
       "      <th>Disponibilité intérieure</th>\n",
       "      <th>Exportations - Quantité</th>\n",
       "      <th>Importations - Quantité</th>\n",
       "      <th>Nourriture</th>\n",
       "      <th>Pertes</th>\n",
       "      <th>Production</th>\n",
       "      <th>Semences</th>\n",
       "      <th>Traitement</th>\n",
       "      <th>Variation de stock</th>\n",
       "      <th>population</th>\n",
       "      <th>Disponibilité alimentaire en million (Kcal/jour)</th>\n",
       "    </tr>\n",
       "    <tr>\n",
       "      <th>Zone</th>\n",
       "      <th></th>\n",
       "      <th></th>\n",
       "      <th></th>\n",
       "      <th></th>\n",
       "      <th></th>\n",
       "      <th></th>\n",
       "      <th></th>\n",
       "      <th></th>\n",
       "      <th></th>\n",
       "      <th></th>\n",
       "      <th></th>\n",
       "      <th></th>\n",
       "      <th></th>\n",
       "      <th></th>\n",
       "      <th></th>\n",
       "      <th></th>\n",
       "      <th></th>\n",
       "      <th></th>\n",
       "      <th></th>\n",
       "    </tr>\n",
       "  </thead>\n",
       "  <tbody>\n",
       "    <tr>\n",
       "      <th>Afghanistan</th>\n",
       "      <td>Abats Comestible</td>\n",
       "      <td>animale</td>\n",
       "      <td>NaN</td>\n",
       "      <td>NaN</td>\n",
       "      <td>5.0</td>\n",
       "      <td>1.72</td>\n",
       "      <td>0.20</td>\n",
       "      <td>0.77</td>\n",
       "      <td>53.0</td>\n",
       "      <td>NaN</td>\n",
       "      <td>NaN</td>\n",
       "      <td>53.0</td>\n",
       "      <td>NaN</td>\n",
       "      <td>53.0</td>\n",
       "      <td>NaN</td>\n",
       "      <td>NaN</td>\n",
       "      <td>NaN</td>\n",
       "      <td>36296113.0</td>\n",
       "      <td>181.48</td>\n",
       "    </tr>\n",
       "    <tr>\n",
       "      <th>Afghanistan</th>\n",
       "      <td>Agrumes, Autres</td>\n",
       "      <td>vegetale</td>\n",
       "      <td>NaN</td>\n",
       "      <td>NaN</td>\n",
       "      <td>1.0</td>\n",
       "      <td>1.29</td>\n",
       "      <td>0.01</td>\n",
       "      <td>0.02</td>\n",
       "      <td>41.0</td>\n",
       "      <td>2.0</td>\n",
       "      <td>40.0</td>\n",
       "      <td>39.0</td>\n",
       "      <td>2.0</td>\n",
       "      <td>3.0</td>\n",
       "      <td>NaN</td>\n",
       "      <td>NaN</td>\n",
       "      <td>NaN</td>\n",
       "      <td>36296113.0</td>\n",
       "      <td>36.30</td>\n",
       "    </tr>\n",
       "    <tr>\n",
       "      <th>Afghanistan</th>\n",
       "      <td>Aliments pour enfants</td>\n",
       "      <td>vegetale</td>\n",
       "      <td>NaN</td>\n",
       "      <td>NaN</td>\n",
       "      <td>1.0</td>\n",
       "      <td>0.06</td>\n",
       "      <td>0.01</td>\n",
       "      <td>0.03</td>\n",
       "      <td>2.0</td>\n",
       "      <td>NaN</td>\n",
       "      <td>2.0</td>\n",
       "      <td>2.0</td>\n",
       "      <td>NaN</td>\n",
       "      <td>NaN</td>\n",
       "      <td>NaN</td>\n",
       "      <td>NaN</td>\n",
       "      <td>NaN</td>\n",
       "      <td>36296113.0</td>\n",
       "      <td>36.30</td>\n",
       "    </tr>\n",
       "    <tr>\n",
       "      <th>Afghanistan</th>\n",
       "      <td>Ananas</td>\n",
       "      <td>vegetale</td>\n",
       "      <td>NaN</td>\n",
       "      <td>NaN</td>\n",
       "      <td>0.0</td>\n",
       "      <td>0.00</td>\n",
       "      <td>NaN</td>\n",
       "      <td>NaN</td>\n",
       "      <td>0.0</td>\n",
       "      <td>NaN</td>\n",
       "      <td>0.0</td>\n",
       "      <td>0.0</td>\n",
       "      <td>NaN</td>\n",
       "      <td>NaN</td>\n",
       "      <td>NaN</td>\n",
       "      <td>NaN</td>\n",
       "      <td>NaN</td>\n",
       "      <td>36296113.0</td>\n",
       "      <td>0.00</td>\n",
       "    </tr>\n",
       "    <tr>\n",
       "      <th>Afghanistan</th>\n",
       "      <td>Bananes</td>\n",
       "      <td>vegetale</td>\n",
       "      <td>NaN</td>\n",
       "      <td>NaN</td>\n",
       "      <td>4.0</td>\n",
       "      <td>2.70</td>\n",
       "      <td>0.02</td>\n",
       "      <td>0.05</td>\n",
       "      <td>82.0</td>\n",
       "      <td>NaN</td>\n",
       "      <td>82.0</td>\n",
       "      <td>82.0</td>\n",
       "      <td>NaN</td>\n",
       "      <td>NaN</td>\n",
       "      <td>NaN</td>\n",
       "      <td>NaN</td>\n",
       "      <td>NaN</td>\n",
       "      <td>36296113.0</td>\n",
       "      <td>145.18</td>\n",
       "    </tr>\n",
       "  </tbody>\n",
       "</table>\n",
       "</div>"
      ],
      "text/plain": [
       "                           Produit   Origine  Aliments pour animaux  \\\n",
       "Zone                                                                  \n",
       "Afghanistan       Abats Comestible   animale                    NaN   \n",
       "Afghanistan        Agrumes, Autres  vegetale                    NaN   \n",
       "Afghanistan  Aliments pour enfants  vegetale                    NaN   \n",
       "Afghanistan                 Ananas  vegetale                    NaN   \n",
       "Afghanistan                Bananes  vegetale                    NaN   \n",
       "\n",
       "             Autres Utilisations  \\\n",
       "Zone                               \n",
       "Afghanistan                  NaN   \n",
       "Afghanistan                  NaN   \n",
       "Afghanistan                  NaN   \n",
       "Afghanistan                  NaN   \n",
       "Afghanistan                  NaN   \n",
       "\n",
       "             Disponibilité alimentaire (Kcal/personne/jour)  \\\n",
       "Zone                                                          \n",
       "Afghanistan                                             5.0   \n",
       "Afghanistan                                             1.0   \n",
       "Afghanistan                                             1.0   \n",
       "Afghanistan                                             0.0   \n",
       "Afghanistan                                             4.0   \n",
       "\n",
       "             Disponibilité alimentaire en quantité (kg/personne/an)  \\\n",
       "Zone                                                                  \n",
       "Afghanistan                                               1.72        \n",
       "Afghanistan                                               1.29        \n",
       "Afghanistan                                               0.06        \n",
       "Afghanistan                                               0.00        \n",
       "Afghanistan                                               2.70        \n",
       "\n",
       "             Disponibilité de matière grasse en quantité (g/personne/jour)  \\\n",
       "Zone                                                                         \n",
       "Afghanistan                                               0.20               \n",
       "Afghanistan                                               0.01               \n",
       "Afghanistan                                               0.01               \n",
       "Afghanistan                                                NaN               \n",
       "Afghanistan                                               0.02               \n",
       "\n",
       "             Disponibilité de protéines en quantité (g/personne/jour)  \\\n",
       "Zone                                                                    \n",
       "Afghanistan                                               0.77          \n",
       "Afghanistan                                               0.02          \n",
       "Afghanistan                                               0.03          \n",
       "Afghanistan                                                NaN          \n",
       "Afghanistan                                               0.05          \n",
       "\n",
       "             Disponibilité intérieure  Exportations - Quantité  \\\n",
       "Zone                                                             \n",
       "Afghanistan                      53.0                      NaN   \n",
       "Afghanistan                      41.0                      2.0   \n",
       "Afghanistan                       2.0                      NaN   \n",
       "Afghanistan                       0.0                      NaN   \n",
       "Afghanistan                      82.0                      NaN   \n",
       "\n",
       "             Importations - Quantité  Nourriture  Pertes  Production  \\\n",
       "Zone                                                                   \n",
       "Afghanistan                      NaN        53.0     NaN        53.0   \n",
       "Afghanistan                     40.0        39.0     2.0         3.0   \n",
       "Afghanistan                      2.0         2.0     NaN         NaN   \n",
       "Afghanistan                      0.0         0.0     NaN         NaN   \n",
       "Afghanistan                     82.0        82.0     NaN         NaN   \n",
       "\n",
       "             Semences  Traitement  Variation de stock  population  \\\n",
       "Zone                                                                \n",
       "Afghanistan       NaN         NaN                 NaN  36296113.0   \n",
       "Afghanistan       NaN         NaN                 NaN  36296113.0   \n",
       "Afghanistan       NaN         NaN                 NaN  36296113.0   \n",
       "Afghanistan       NaN         NaN                 NaN  36296113.0   \n",
       "Afghanistan       NaN         NaN                 NaN  36296113.0   \n",
       "\n",
       "             Disponibilité alimentaire en million (Kcal/jour)  \n",
       "Zone                                                           \n",
       "Afghanistan                                            181.48  \n",
       "Afghanistan                                             36.30  \n",
       "Afghanistan                                             36.30  \n",
       "Afghanistan                                              0.00  \n",
       "Afghanistan                                            145.18  "
      ]
     },
     "execution_count": 33,
     "metadata": {},
     "output_type": "execute_result"
    }
   ],
   "source": [
    "#On affiche df_dispo\n",
    "df_dispo.head()"
   ]
  },
  {
   "cell_type": "code",
   "execution_count": 34,
   "metadata": {},
   "outputs": [],
   "source": [
    "#on calcule la somme de la disponibilité alimentaire en kcal/personne/jour\n",
    "total_kcal_jour =df_dispo['Disponibilité alimentaire en million (Kcal/jour)'].sum()\n"
   ]
  },
  {
   "cell_type": "code",
   "execution_count": 35,
   "metadata": {},
   "outputs": [
    {
     "name": "stdout",
     "output_type": "stream",
     "text": [
      "le nombre theorique de personnes qui pourraient etre nourries est de: 8.473 milliard d'habitants\n"
     ]
    }
   ],
   "source": [
    "#On calcul le nombre theorique de personnes qui pourraient etre nourries\n",
    "total_theorique_nourrie= total_kcal_jour / 2500\n",
    "\n",
    "#On converti le resultat en milliard pour une lecture plus agréable\n",
    "total_theorique_nourrie= np.round(total_theorique_nourrie/1000,3)\n",
    "\n",
    "#On affiche le nombre theorique de personnes qui pourraient etre nourries\n",
    "print(\"le nombre theorique de personnes qui pourraient etre nourries est de:\",total_theorique_nourrie,\"milliard d'habitants\")"
   ]
  },
  {
   "cell_type": "code",
   "execution_count": 36,
   "metadata": {},
   "outputs": [
    {
     "name": "stdout",
     "output_type": "stream",
     "text": [
      "Théoriquement nous pourions nourrir 112.31 % de la population mondiale\n"
     ]
    }
   ],
   "source": [
    "#On compare le resultat obtenue en pourcentage par rapport au total de la population en 2017\n",
    "pourcentage_theorique=np.round((total_theorique_nourrie/population2017)*100,2)\n",
    "print(\"Théoriquement nous pourions nourrir\",pourcentage_theorique,\"% de la population mondiale\")"
   ]
  },
  {
   "cell_type": "code",
   "execution_count": null,
   "metadata": {},
   "outputs": [],
   "source": []
  },
  {
   "cell_type": "markdown",
   "metadata": {},
   "source": [
    "##                                            Question 3: Nombre théorique de personne qui pourraient être nourries avec des produits végétaux"
   ]
  },
  {
   "cell_type": "code",
   "execution_count": null,
   "metadata": {},
   "outputs": [],
   "source": []
  },
  {
   "cell_type": "code",
   "execution_count": 37,
   "metadata": {},
   "outputs": [
    {
     "name": "stdout",
     "output_type": "stream",
     "text": [
      "le nombre theorique de personnes qui pourraient etre nourries avec des produits d'origine vegetale est de: 6.98 milliard d'habitants\n"
     ]
    }
   ],
   "source": [
    "#on stock dans 'dispo_vege' la sommes de la disponibilité alimentaire total des produits d'origine vegetales en million (kcal/jour)\n",
    "dispo_vege = df_dispo[df_dispo['Origine']=='vegetale']['Disponibilité alimentaire en million (Kcal/jour)'].sum()\n",
    "\n",
    "#On calcul le nombre theorique de personnes qui pourraient etre nourries avec les produits d'origine végétales\n",
    "total_theorique_vege= dispo_vege / 2500\n",
    "\n",
    "#On converti le resultat en milliard pour une lecture plus agréable\n",
    "total_theorique_vege= np.round(total_theorique_vege/1000,3)\n",
    "\n",
    "#On affiche le nombre theorique de personnes qui pourraient etre nourries avec des produits d'origine vegetales\n",
    "print(\"le nombre theorique de personnes qui pourraient etre nourries avec des produits d'origine vegetale est de:\",total_theorique_vege,\"milliard d'habitants\")\n",
    "\n"
   ]
  },
  {
   "cell_type": "code",
   "execution_count": 38,
   "metadata": {},
   "outputs": [
    {
     "name": "stdout",
     "output_type": "stream",
     "text": [
      "Théoriquement nous pourions nourrir 92.52 % de la population mondiale avec des produits d'origine végétale\n"
     ]
    }
   ],
   "source": [
    "#On compare le resultat obtenue en pourcentage par rapport au total de la population en 2017\n",
    "pourcentage_theorique_vege=np.round((total_theorique_vege/population2017)*100,2)\n",
    "print(\"Théoriquement nous pourions nourrir\",pourcentage_theorique_vege,\"% de la population mondiale avec des produits d'origine végétale\")\n"
   ]
  },
  {
   "cell_type": "code",
   "execution_count": null,
   "metadata": {},
   "outputs": [],
   "source": []
  },
  {
   "cell_type": "markdown",
   "metadata": {},
   "source": [
    "##                                            Question 4: Alimentation animale"
   ]
  },
  {
   "cell_type": "code",
   "execution_count": null,
   "metadata": {},
   "outputs": [],
   "source": []
  },
  {
   "cell_type": "markdown",
   "metadata": {},
   "source": [
    " Disponibilité intérieure = Production + Importations + Variation - Exportations \n",
    " = Nourriture + Aliments animaux + Semences + Pertes + Traitement + Autres utilisations"
   ]
  },
  {
   "cell_type": "code",
   "execution_count": null,
   "metadata": {},
   "outputs": [],
   "source": []
  },
  {
   "cell_type": "code",
   "execution_count": 39,
   "metadata": {},
   "outputs": [],
   "source": [
    "#on calcule la somme de la disponibilité interieur \n",
    "total_dispo_interieur =df_dispo['Disponibilité intérieure'].sum()\n"
   ]
  },
  {
   "cell_type": "code",
   "execution_count": 40,
   "metadata": {},
   "outputs": [],
   "source": [
    "#On remplace les Nan de 'Alimentation pour animaux' par 0\n",
    "df_dispo['Aliments pour animaux'].fillna(0,inplace=True)\n",
    "#On garde uniquement la disponibilité interieur pour l'alimentation attribué aux animaux\n",
    "df_dispo_interieur_animal =df_dispo[df_dispo['Aliments pour animaux']!=0]\n",
    "#on calcule la somme des aliments pour animaux \n",
    "total_alimentation_animale =df_dispo['Aliments pour animaux'].sum()\n"
   ]
  },
  {
   "cell_type": "code",
   "execution_count": 41,
   "metadata": {},
   "outputs": [
    {
     "name": "stdout",
     "output_type": "stream",
     "text": [
      "la proportion de la disponibilité interieur attribué à l'alimentation animal est de: 13.24 %\n"
     ]
    }
   ],
   "source": [
    "#Proportion de dispo interieur attribué aux animaux\n",
    "total_animale=np.round((total_alimentation_animale/total_dispo_interieur)*100,2)\n",
    "#On affiche la proportion de la disponibilité inbterieur attribué à l'alimentation animal\n",
    "print(\"la proportion de la disponibilité interieur attribué à l'alimentation animal est de:\",total_animale,\"%\")"
   ]
  },
  {
   "cell_type": "code",
   "execution_count": null,
   "metadata": {},
   "outputs": [],
   "source": []
  },
  {
   "cell_type": "markdown",
   "metadata": {},
   "source": [
    "##                                            Question 4: Alimentation perdu"
   ]
  },
  {
   "cell_type": "code",
   "execution_count": 42,
   "metadata": {},
   "outputs": [],
   "source": [
    "#On fait la sommes de la disponibilité interieur pour les pertes\n",
    "total_alimentation_pertes =df_dispo['Pertes'].sum()"
   ]
  },
  {
   "cell_type": "code",
   "execution_count": 43,
   "metadata": {},
   "outputs": [
    {
     "name": "stdout",
     "output_type": "stream",
     "text": [
      "la proportion de la disponibilité interieur perdue est de: 4.61 %\n"
     ]
    }
   ],
   "source": [
    "#Proportion de dispo interieur perdue\n",
    "total_pertes=np.round((total_alimentation_pertes/total_dispo_interieur)*100,2)\n",
    "#On affiche la proportion de la disponibilité interieur perdue\n",
    "print(\"la proportion de la disponibilité interieur perdue est de:\",total_pertes,\"%\")"
   ]
  },
  {
   "cell_type": "code",
   "execution_count": null,
   "metadata": {},
   "outputs": [],
   "source": []
  },
  {
   "cell_type": "markdown",
   "metadata": {},
   "source": [
    "## Question 4: Alimentation humaine"
   ]
  },
  {
   "cell_type": "code",
   "execution_count": null,
   "metadata": {},
   "outputs": [],
   "source": []
  },
  {
   "cell_type": "code",
   "execution_count": 44,
   "metadata": {},
   "outputs": [],
   "source": [
    "#On fait la sommes de la disponibilité interieur pour l'alimentation humaine\n",
    "total_alimentation_humaine =df_dispo['Nourriture'].sum()"
   ]
  },
  {
   "cell_type": "code",
   "execution_count": 45,
   "metadata": {},
   "outputs": [
    {
     "name": "stdout",
     "output_type": "stream",
     "text": [
      "la proportion de la disponibilité interieur pour l'alimentation humaine est de: 49.51 %\n"
     ]
    }
   ],
   "source": [
    "#Proportion de dispo interieur pour l'alimenttion humaine\n",
    "total_humaine=np.round((total_alimentation_humaine/total_dispo_interieur)*100,2)\n",
    "#On affiche la proportion de la disponibilité interieur pour l'alimentation humaine\n",
    "print(\"la proportion de la disponibilité interieur pour l'alimentation humaine est de:\",total_humaine,\"%\")"
   ]
  },
  {
   "cell_type": "markdown",
   "metadata": {},
   "source": [
    "## Visualisation disponibilitées alimentaires"
   ]
  },
  {
   "cell_type": "code",
   "execution_count": 46,
   "metadata": {},
   "outputs": [],
   "source": [
    "#On creer df_pie pour faire une visualisation des disponibilitées alimentaires\n",
    "df_pie=df_dispo.drop(df_dispo.columns[[0,1,4,5,6,7,8,9,10,13,16,17,18]], axis=1).sum()"
   ]
  },
  {
   "cell_type": "code",
   "execution_count": 47,
   "metadata": {},
   "outputs": [
    {
     "data": {
      "text/plain": [
       "Aliments pour animaux    1304245.0\n",
       "Autres Utilisations       865023.0\n",
       "Nourriture               4876258.0\n",
       "Pertes                    453698.0\n",
       "Semences                  154681.0\n",
       "Traitement               2204687.0\n",
       "dtype: float64"
      ]
     },
     "execution_count": 47,
     "metadata": {},
     "output_type": "execute_result"
    }
   ],
   "source": [
    "df_pie.head(10)"
   ]
  },
  {
   "cell_type": "code",
   "execution_count": 48,
   "metadata": {},
   "outputs": [
    {
     "data": {
      "image/png": "[encoded data removed]",
      "text/plain": [
       "<Figure size 720x720 with 1 Axes>"
      ]
     },
     "metadata": {},
     "output_type": "display_data"
    }
   ],
   "source": [
    "#On definit la taille du Pie plot\n",
    "plt.figure(figsize = (10, 10))\n",
    "\n",
    "#On regle et on affiche le Pie plot\n",
    "plt.pie(x = df_pie.head(6), labels=['Aliments pour animaux', 'Autres Utilisations', 'Nourriture', 'Pertes', 'Semences', 'Traitement'],\n",
    "           explode = [0, 0, 0, 0, 0, 0],\n",
    "           autopct = lambda x: str(round(x, 2)) + '%',\n",
    "           pctdistance = 0.7, labeldistance = 1.2,\n",
    "           shadow = True)\n",
    "plt.title('Disponibilitées alimentaires');"
   ]
  },
  {
   "cell_type": "code",
   "execution_count": null,
   "metadata": {},
   "outputs": [],
   "source": []
  },
  {
   "cell_type": "markdown",
   "metadata": {},
   "source": [
    "##                                            Question Julien: Céréale"
   ]
  },
  {
   "cell_type": "code",
   "execution_count": null,
   "metadata": {},
   "outputs": [],
   "source": []
  },
  {
   "cell_type": "markdown",
   "metadata": {},
   "source": [
    "#Listes des cereale 2013 et 2017\n",
    "\n",
    "#Pour 2013: cereale = 'Blé', 'Céréales, Autres', 'Maïs', 'Millet','Orge', 'Riz (Eq Blanchi)', 'Avoine', 'Sorgho', 'Seigle'.\n",
    "\n",
    "#Pour 2017: cereale = 'Blé et produits','Céréales, Autres', 'Maïs et produits', 'Millet et produits','Orge et produits', 'Riz et produits', 'Avoine', 'Sorgho et produits', 'Seigle et produits'"
   ]
  },
  {
   "cell_type": "code",
   "execution_count": 49,
   "metadata": {},
   "outputs": [],
   "source": [
    "#Dispo cereale 2017\n",
    "\n",
    "liste_cereale2017 = ['Blé et produits','Céréales, Autres', 'Maïs et produits', 'Millet et produits','Orge et produits', 'Riz et produits', 'Avoine', 'Sorgho et produits', 'Seigle et produits']\n",
    "df_cereale2017 = df_dispo[df_dispo[\"Produit\"].isin(liste_cereale2017)].groupby(\"Zone\").sum().reset_index() \n",
    "prop_list2017 = [df_cereale2017['Aliments pour animaux'].sum() / df_cereale2017[\"Disponibilité intérieure\"].sum(),\n",
    "df_cereale2017['Nourriture'].sum() / df_cereale2017[\"Disponibilité intérieure\"].sum(),]\n",
    "prop_list2017.append(1-prop_list2017[0]-prop_list2017[1])"
   ]
  },
  {
   "cell_type": "code",
   "execution_count": 50,
   "metadata": {},
   "outputs": [
    {
     "data": {
      "text/plain": [
       "[0.6933506248526291, 0.18130550970683015, 0.12534386544054074]"
      ]
     },
     "execution_count": 50,
     "metadata": {},
     "output_type": "execute_result"
    }
   ],
   "source": [
    "#On affiche les resultats de 2017\n",
    "prop_list2017"
   ]
  },
  {
   "cell_type": "code",
   "execution_count": 51,
   "metadata": {},
   "outputs": [
    {
     "data": {
      "image/png": "[encoded data removed]",
      "text/plain": [
       "<Figure size 432x432 with 1 Axes>"
      ]
     },
     "metadata": {},
     "output_type": "display_data"
    }
   ],
   "source": [
    "#On regle la taille du pie plot\n",
    "plt.figure(figsize = (6, 6))\n",
    "#On affiche le pie plot \n",
    "plt.pie(prop_list2017, labels = [ 'Animale','Humaine', 'Autre'],autopct = lambda x: str(round(x, 2)) + '%')\n",
    "plt.title('Répartition des céréales 2017');"
   ]
  },
  {
   "cell_type": "code",
   "execution_count": 52,
   "metadata": {},
   "outputs": [],
   "source": [
    "#Dispo cereale 2013\n",
    "\n",
    "liste_cereale2013 = ['Blé','Céréales, Autres', 'Maïs', 'Millet','Orge', 'Riz (Eq Blanchi)', 'Avoine', 'Sorgho', 'Seigle']\n",
    "df_cereale2013 = df_dispo[df_dispo[\"Produit\"].isin(liste_cereale2013)].groupby(\"Zone\").sum().reset_index() \n",
    "prop_list2013 = [df_cereale2013['Aliments pour animaux'].sum() / df_cereale2013[\"Disponibilité intérieure\"].sum(),\n",
    "df_cereale2013['Nourriture'].sum() / df_cereale2013[\"Disponibilité intérieure\"].sum(),]\n",
    "prop_list2013.append(1-prop_list2013[0]-prop_list2013[1])"
   ]
  },
  {
   "cell_type": "code",
   "execution_count": 53,
   "metadata": {},
   "outputs": [
    {
     "data": {
      "text/plain": [
       "[0.36291456706047653, 0.4275074480712289, 0.20957798486829454]"
      ]
     },
     "execution_count": 53,
     "metadata": {},
     "output_type": "execute_result"
    }
   ],
   "source": [
    "#On affiche les resultats de 2013\n",
    "prop_list2013"
   ]
  },
  {
   "cell_type": "code",
   "execution_count": 54,
   "metadata": {},
   "outputs": [
    {
     "data": {
      "image/png": "[encoded data removed]",
      "text/plain": [
       "<Figure size 432x432 with 1 Axes>"
      ]
     },
     "metadata": {},
     "output_type": "display_data"
    }
   ],
   "source": [
    "#On regle la taille du pie plot\n",
    "plt.figure(figsize = (6, 6))\n",
    "#On affiche le pie plot \n",
    "plt.pie(prop_list2013, labels = [ 'Animale','Humaine', 'Autre'],autopct = lambda x: str(round(x, 2)) + '%')\n",
    "plt.title('Répartition des céréales 2013');"
   ]
  },
  {
   "cell_type": "code",
   "execution_count": null,
   "metadata": {},
   "outputs": [],
   "source": []
  },
  {
   "cell_type": "markdown",
   "metadata": {},
   "source": [
    "##                                            Question Julien: Manioc"
   ]
  },
  {
   "cell_type": "code",
   "execution_count": null,
   "metadata": {},
   "outputs": [],
   "source": []
  },
  {
   "cell_type": "code",
   "execution_count": 55,
   "metadata": {},
   "outputs": [],
   "source": [
    "#On ajoute un index\n",
    "df_dispo = df_dispo.reset_index()\n",
    "#On crée la variable \"exportation_manioc\" qui correspond à aux données de la Thailande sur le produit 'manioc'\n",
    "exportation_manioc = df_dispo.loc[(df_dispo['Produit'] == \"Manioc\") & (df_dispo['Zone'] == \"Thaïlande\"),:]"
   ]
  },
  {
   "cell_type": "code",
   "execution_count": 56,
   "metadata": {},
   "outputs": [
    {
     "data": {
      "text/html": [
       "<div>\n",
       "<style scoped>\n",
       "    .dataframe tbody tr th:only-of-type {\n",
       "        vertical-align: middle;\n",
       "    }\n",
       "\n",
       "    .dataframe tbody tr th {\n",
       "        vertical-align: top;\n",
       "    }\n",
       "\n",
       "    .dataframe thead th {\n",
       "        text-align: right;\n",
       "    }\n",
       "</style>\n",
       "<table border=\"1\" class=\"dataframe\">\n",
       "  <thead>\n",
       "    <tr style=\"text-align: right;\">\n",
       "      <th></th>\n",
       "      <th>Zone</th>\n",
       "      <th>Produit</th>\n",
       "      <th>Origine</th>\n",
       "      <th>Aliments pour animaux</th>\n",
       "      <th>Autres Utilisations</th>\n",
       "      <th>Disponibilité alimentaire (Kcal/personne/jour)</th>\n",
       "      <th>Disponibilité alimentaire en quantité (kg/personne/an)</th>\n",
       "      <th>Disponibilité de matière grasse en quantité (g/personne/jour)</th>\n",
       "      <th>Disponibilité de protéines en quantité (g/personne/jour)</th>\n",
       "      <th>Disponibilité intérieure</th>\n",
       "      <th>Exportations - Quantité</th>\n",
       "      <th>Importations - Quantité</th>\n",
       "      <th>Nourriture</th>\n",
       "      <th>Pertes</th>\n",
       "      <th>Production</th>\n",
       "      <th>Semences</th>\n",
       "      <th>Traitement</th>\n",
       "      <th>Variation de stock</th>\n",
       "      <th>population</th>\n",
       "      <th>Disponibilité alimentaire en million (Kcal/jour)</th>\n",
       "    </tr>\n",
       "  </thead>\n",
       "  <tbody>\n",
       "    <tr>\n",
       "      <th>13809</th>\n",
       "      <td>Thaïlande</td>\n",
       "      <td>Manioc</td>\n",
       "      <td>vegetale</td>\n",
       "      <td>1800.0</td>\n",
       "      <td>2081.0</td>\n",
       "      <td>40.0</td>\n",
       "      <td>13.0</td>\n",
       "      <td>0.05</td>\n",
       "      <td>0.14</td>\n",
       "      <td>6264.0</td>\n",
       "      <td>25214.0</td>\n",
       "      <td>1250.0</td>\n",
       "      <td>871.0</td>\n",
       "      <td>1511.0</td>\n",
       "      <td>30228.0</td>\n",
       "      <td>NaN</td>\n",
       "      <td>0.0</td>\n",
       "      <td>0.0</td>\n",
       "      <td>69209810.0</td>\n",
       "      <td>2768.39</td>\n",
       "    </tr>\n",
       "  </tbody>\n",
       "</table>\n",
       "</div>"
      ],
      "text/plain": [
       "            Zone Produit   Origine  Aliments pour animaux  \\\n",
       "13809  Thaïlande  Manioc  vegetale                 1800.0   \n",
       "\n",
       "       Autres Utilisations  Disponibilité alimentaire (Kcal/personne/jour)  \\\n",
       "13809               2081.0                                            40.0   \n",
       "\n",
       "       Disponibilité alimentaire en quantité (kg/personne/an)  \\\n",
       "13809                                               13.0        \n",
       "\n",
       "       Disponibilité de matière grasse en quantité (g/personne/jour)  \\\n",
       "13809                                               0.05               \n",
       "\n",
       "       Disponibilité de protéines en quantité (g/personne/jour)  \\\n",
       "13809                                               0.14          \n",
       "\n",
       "       Disponibilité intérieure  Exportations - Quantité  \\\n",
       "13809                    6264.0                  25214.0   \n",
       "\n",
       "       Importations - Quantité  Nourriture  Pertes  Production  Semences  \\\n",
       "13809                   1250.0       871.0  1511.0     30228.0       NaN   \n",
       "\n",
       "       Traitement  Variation de stock  population  \\\n",
       "13809         0.0                 0.0  69209810.0   \n",
       "\n",
       "       Disponibilité alimentaire en million (Kcal/jour)  \n",
       "13809                                           2768.39  "
      ]
     },
     "execution_count": 56,
     "metadata": {},
     "output_type": "execute_result"
    }
   ],
   "source": [
    "#On affiche les données concernant le manioc en Thailande\n",
    "exportation_manioc"
   ]
  },
  {
   "cell_type": "code",
   "execution_count": 57,
   "metadata": {},
   "outputs": [
    {
     "name": "stdout",
     "output_type": "stream",
     "text": [
      "La proportion de manioc exportée est de: 83.41 %\n"
     ]
    }
   ],
   "source": [
    "#On affiche la proportion exportée à partir de la production\n",
    "print(\"La proportion de manioc exportée est de:\", \"{:.2f}\".format(exportation_manioc['Exportations - Quantité'].iloc[0]*100 /exportation_manioc['Production'].iloc[0]), \"%\")"
   ]
  },
  {
   "cell_type": "code",
   "execution_count": 58,
   "metadata": {},
   "outputs": [
    {
     "name": "stdout",
     "output_type": "stream",
     "text": [
      "le pourcentage de sous-nutrition en thailande est de: 8.96 %\n"
     ]
    }
   ],
   "source": [
    "#On recupere la population + la population en sous nutrition en 2017 en Thailande dans df_popu_thailande\n",
    "df_popu_thailande = df2017.loc['Thaïlande']\n",
    "#On calcule le pourcentage de sous nutrition en Thailande en 2017\n",
    "sous_nutrition_thailande = np.round((df_popu_thailande['valeur_sous_nutrition'] / df_popu_thailande['valeur_population'])*100,2)\n",
    "#On affiche le pourcentge de sous-nutriton en Thailande pour 2017\n",
    "print(\"le pourcentage de sous-nutrition en thailande est de:\",sous_nutrition_thailande,\"%\")\n"
   ]
  },
  {
   "cell_type": "code",
   "execution_count": 59,
   "metadata": {},
   "outputs": [
    {
     "data": {
      "text/html": [
       "<div>\n",
       "<style scoped>\n",
       "    .dataframe tbody tr th:only-of-type {\n",
       "        vertical-align: middle;\n",
       "    }\n",
       "\n",
       "    .dataframe tbody tr th {\n",
       "        vertical-align: top;\n",
       "    }\n",
       "\n",
       "    .dataframe thead th {\n",
       "        text-align: right;\n",
       "    }\n",
       "</style>\n",
       "<table border=\"1\" class=\"dataframe\">\n",
       "  <thead>\n",
       "    <tr style=\"text-align: right;\">\n",
       "      <th></th>\n",
       "      <th>Zone</th>\n",
       "      <th>Produit</th>\n",
       "      <th>Origine</th>\n",
       "      <th>Aliments pour animaux</th>\n",
       "      <th>Autres Utilisations</th>\n",
       "      <th>Disponibilité alimentaire (Kcal/personne/jour)</th>\n",
       "      <th>Disponibilité alimentaire en quantité (kg/personne/an)</th>\n",
       "      <th>Disponibilité de matière grasse en quantité (g/personne/jour)</th>\n",
       "      <th>Disponibilité de protéines en quantité (g/personne/jour)</th>\n",
       "      <th>Disponibilité intérieure</th>\n",
       "      <th>Exportations - Quantité</th>\n",
       "      <th>Importations - Quantité</th>\n",
       "      <th>Nourriture</th>\n",
       "      <th>Pertes</th>\n",
       "      <th>Production</th>\n",
       "      <th>Semences</th>\n",
       "      <th>Traitement</th>\n",
       "      <th>Variation de stock</th>\n",
       "      <th>population</th>\n",
       "      <th>Disponibilité alimentaire en million (Kcal/jour)</th>\n",
       "    </tr>\n",
       "  </thead>\n",
       "  <tbody>\n",
       "    <tr>\n",
       "      <th>13809</th>\n",
       "      <td>Thaïlande</td>\n",
       "      <td>Manioc</td>\n",
       "      <td>vegetale</td>\n",
       "      <td>1800.0</td>\n",
       "      <td>2081.0</td>\n",
       "      <td>40.0</td>\n",
       "      <td>13.0</td>\n",
       "      <td>0.05</td>\n",
       "      <td>0.14</td>\n",
       "      <td>6264.0</td>\n",
       "      <td>25214.0</td>\n",
       "      <td>1250.0</td>\n",
       "      <td>871.0</td>\n",
       "      <td>1511.0</td>\n",
       "      <td>30228.0</td>\n",
       "      <td>NaN</td>\n",
       "      <td>0.0</td>\n",
       "      <td>0.0</td>\n",
       "      <td>69209810.0</td>\n",
       "      <td>2768.39</td>\n",
       "    </tr>\n",
       "  </tbody>\n",
       "</table>\n",
       "</div>"
      ],
      "text/plain": [
       "            Zone Produit   Origine  Aliments pour animaux  \\\n",
       "13809  Thaïlande  Manioc  vegetale                 1800.0   \n",
       "\n",
       "       Autres Utilisations  Disponibilité alimentaire (Kcal/personne/jour)  \\\n",
       "13809               2081.0                                            40.0   \n",
       "\n",
       "       Disponibilité alimentaire en quantité (kg/personne/an)  \\\n",
       "13809                                               13.0        \n",
       "\n",
       "       Disponibilité de matière grasse en quantité (g/personne/jour)  \\\n",
       "13809                                               0.05               \n",
       "\n",
       "       Disponibilité de protéines en quantité (g/personne/jour)  \\\n",
       "13809                                               0.14          \n",
       "\n",
       "       Disponibilité intérieure  Exportations - Quantité  \\\n",
       "13809                    6264.0                  25214.0   \n",
       "\n",
       "       Importations - Quantité  Nourriture  Pertes  Production  Semences  \\\n",
       "13809                   1250.0       871.0  1511.0     30228.0       NaN   \n",
       "\n",
       "       Traitement  Variation de stock  population  \\\n",
       "13809         0.0                 0.0  69209810.0   \n",
       "\n",
       "       Disponibilité alimentaire en million (Kcal/jour)  \n",
       "13809                                           2768.39  "
      ]
     },
     "execution_count": 59,
     "metadata": {},
     "output_type": "execute_result"
    }
   ],
   "source": [
    "exportation_manioc"
   ]
  },
  {
   "cell_type": "markdown",
   "metadata": {},
   "source": [
    "1kg de manioc = 1250 à 1400kcal selon mes recherches sur internet, je choisi de prendre la valeur la plus basse pour la suite\n",
    "\n",
    "source: https://devsante.org/articles/le-manioc#:~:text=Il%20a%20une%20forte%20teneur,de%20manioc%20frais%20et%20pelé.\n",
    "\n",
    "Production x 1000000 = production en kilo, x1250(kcal pour 1 kilo) / 2500(kcal theorique par personne par jour) /365 (nombre de jours dans une année)"
   ]
  },
  {
   "cell_type": "code",
   "execution_count": 60,
   "metadata": {},
   "outputs": [
    {
     "name": "stdout",
     "output_type": "stream",
     "text": [
      "Le nombre d'habitants qui pourraient etre nourries avec l'exportation de manioc en Thailande est: 34539726 habitants\n",
      "Ce qui représente: 49.91 % de la population de Thailande\n"
     ]
    }
   ],
   "source": [
    "#On affiche le nombre theorique de personnes qui pourraient etre nourries avec l'exportation de manioc en Thailande\n",
    "\n",
    "print(\"Le nombre d'habitants qui pourraient etre nourries avec l'exportation de manioc en Thailande est:\",\"{:.0f}\".format(exportation_manioc['Exportations - Quantité'].iloc[0]*1000000*1250 /2500/365),\"habitants\")\n",
    "print(\"Ce qui représente:\", \"{:.2f}\".format(exportation_manioc['Exportations - Quantité'].iloc[0]*1000000*1250 /2500/365/exportation_manioc['population'].iloc[0]*100), \"% de la population de Thailande\")\n",
    "      "
   ]
  },
  {
   "cell_type": "code",
   "execution_count": null,
   "metadata": {},
   "outputs": [],
   "source": []
  },
  {
   "cell_type": "markdown",
   "metadata": {},
   "source": [
    "## Questions de Mélanie"
   ]
  },
  {
   "cell_type": "markdown",
   "metadata": {},
   "source": [
    "## Question 1: Les pays pour lesquels la proportion de personnes sous-alimentées est la plus forte en 2017\n"
   ]
  },
  {
   "cell_type": "code",
   "execution_count": 61,
   "metadata": {},
   "outputs": [
    {
     "data": {
      "text/html": [
       "<div>\n",
       "<style scoped>\n",
       "    .dataframe tbody tr th:only-of-type {\n",
       "        vertical-align: middle;\n",
       "    }\n",
       "\n",
       "    .dataframe tbody tr th {\n",
       "        vertical-align: top;\n",
       "    }\n",
       "\n",
       "    .dataframe thead th {\n",
       "        text-align: right;\n",
       "    }\n",
       "</style>\n",
       "<table border=\"1\" class=\"dataframe\">\n",
       "  <thead>\n",
       "    <tr style=\"text-align: right;\">\n",
       "      <th></th>\n",
       "      <th>Année</th>\n",
       "      <th>valeur_population</th>\n",
       "      <th>valeur_sous_nutrition</th>\n",
       "    </tr>\n",
       "    <tr>\n",
       "      <th>Zone</th>\n",
       "      <th></th>\n",
       "      <th></th>\n",
       "      <th></th>\n",
       "    </tr>\n",
       "  </thead>\n",
       "  <tbody>\n",
       "    <tr>\n",
       "      <th>Afghanistan</th>\n",
       "      <td>2017</td>\n",
       "      <td>36296.113</td>\n",
       "      <td>10500.0</td>\n",
       "    </tr>\n",
       "    <tr>\n",
       "      <th>Afrique du Sud</th>\n",
       "      <td>2017</td>\n",
       "      <td>57009.756</td>\n",
       "      <td>3100.0</td>\n",
       "    </tr>\n",
       "    <tr>\n",
       "      <th>Albanie</th>\n",
       "      <td>2017</td>\n",
       "      <td>2884.169</td>\n",
       "      <td>100.0</td>\n",
       "    </tr>\n",
       "    <tr>\n",
       "      <th>Algérie</th>\n",
       "      <td>2017</td>\n",
       "      <td>41389.189</td>\n",
       "      <td>1300.0</td>\n",
       "    </tr>\n",
       "    <tr>\n",
       "      <th>Allemagne</th>\n",
       "      <td>2017</td>\n",
       "      <td>82658.409</td>\n",
       "      <td>NaN</td>\n",
       "    </tr>\n",
       "  </tbody>\n",
       "</table>\n",
       "</div>"
      ],
      "text/plain": [
       "                Année  valeur_population  valeur_sous_nutrition\n",
       "Zone                                                           \n",
       "Afghanistan      2017          36296.113                10500.0\n",
       "Afrique du Sud   2017          57009.756                 3100.0\n",
       "Albanie          2017           2884.169                  100.0\n",
       "Algérie          2017          41389.189                 1300.0\n",
       "Allemagne        2017          82658.409                    NaN"
      ]
     },
     "execution_count": 61,
     "metadata": {},
     "output_type": "execute_result"
    }
   ],
   "source": [
    "df2017.head()"
   ]
  },
  {
   "cell_type": "code",
   "execution_count": 62,
   "metadata": {},
   "outputs": [],
   "source": [
    "#Création de la colonnes Proportion de sous nutrition\n",
    "df2017['pourcentage_sous_nutrition'] = np.round((df2017['valeur_sous_nutrition'] / df2017['valeur_population'])*100,2)"
   ]
  },
  {
   "cell_type": "code",
   "execution_count": 63,
   "metadata": {},
   "outputs": [],
   "source": [
    "df2017.dropna(subset = [\"pourcentage_sous_nutrition\"], inplace=True)"
   ]
  },
  {
   "cell_type": "code",
   "execution_count": 64,
   "metadata": {},
   "outputs": [
    {
     "data": {
      "text/html": [
       "<div>\n",
       "<style scoped>\n",
       "    .dataframe tbody tr th:only-of-type {\n",
       "        vertical-align: middle;\n",
       "    }\n",
       "\n",
       "    .dataframe tbody tr th {\n",
       "        vertical-align: top;\n",
       "    }\n",
       "\n",
       "    .dataframe thead th {\n",
       "        text-align: right;\n",
       "    }\n",
       "</style>\n",
       "<table border=\"1\" class=\"dataframe\">\n",
       "  <thead>\n",
       "    <tr style=\"text-align: right;\">\n",
       "      <th></th>\n",
       "      <th>Année</th>\n",
       "      <th>valeur_population</th>\n",
       "      <th>valeur_sous_nutrition</th>\n",
       "      <th>pourcentage_sous_nutrition</th>\n",
       "    </tr>\n",
       "    <tr>\n",
       "      <th>Zone</th>\n",
       "      <th></th>\n",
       "      <th></th>\n",
       "      <th></th>\n",
       "      <th></th>\n",
       "    </tr>\n",
       "  </thead>\n",
       "  <tbody>\n",
       "    <tr>\n",
       "      <th>Haïti</th>\n",
       "      <td>2017</td>\n",
       "      <td>10982.366</td>\n",
       "      <td>5300.0</td>\n",
       "      <td>48.26</td>\n",
       "    </tr>\n",
       "    <tr>\n",
       "      <th>République populaire démocratique de Corée</th>\n",
       "      <td>2017</td>\n",
       "      <td>25429.825</td>\n",
       "      <td>12000.0</td>\n",
       "      <td>47.19</td>\n",
       "    </tr>\n",
       "    <tr>\n",
       "      <th>Madagascar</th>\n",
       "      <td>2017</td>\n",
       "      <td>25570.512</td>\n",
       "      <td>10500.0</td>\n",
       "      <td>41.06</td>\n",
       "    </tr>\n",
       "    <tr>\n",
       "      <th>Libéria</th>\n",
       "      <td>2017</td>\n",
       "      <td>4702.226</td>\n",
       "      <td>1800.0</td>\n",
       "      <td>38.28</td>\n",
       "    </tr>\n",
       "    <tr>\n",
       "      <th>Lesotho</th>\n",
       "      <td>2017</td>\n",
       "      <td>2091.534</td>\n",
       "      <td>800.0</td>\n",
       "      <td>38.25</td>\n",
       "    </tr>\n",
       "    <tr>\n",
       "      <th>Tchad</th>\n",
       "      <td>2017</td>\n",
       "      <td>15016.753</td>\n",
       "      <td>5700.0</td>\n",
       "      <td>37.96</td>\n",
       "    </tr>\n",
       "    <tr>\n",
       "      <th>Rwanda</th>\n",
       "      <td>2017</td>\n",
       "      <td>11980.961</td>\n",
       "      <td>4200.0</td>\n",
       "      <td>35.06</td>\n",
       "    </tr>\n",
       "    <tr>\n",
       "      <th>Mozambique</th>\n",
       "      <td>2017</td>\n",
       "      <td>28649.018</td>\n",
       "      <td>9400.0</td>\n",
       "      <td>32.81</td>\n",
       "    </tr>\n",
       "    <tr>\n",
       "      <th>Timor-Leste</th>\n",
       "      <td>2017</td>\n",
       "      <td>1243.258</td>\n",
       "      <td>400.0</td>\n",
       "      <td>32.17</td>\n",
       "    </tr>\n",
       "    <tr>\n",
       "      <th>Afghanistan</th>\n",
       "      <td>2017</td>\n",
       "      <td>36296.113</td>\n",
       "      <td>10500.0</td>\n",
       "      <td>28.93</td>\n",
       "    </tr>\n",
       "  </tbody>\n",
       "</table>\n",
       "</div>"
      ],
      "text/plain": [
       "                                            Année  valeur_population  \\\n",
       "Zone                                                                   \n",
       "Haïti                                        2017          10982.366   \n",
       "République populaire démocratique de Corée   2017          25429.825   \n",
       "Madagascar                                   2017          25570.512   \n",
       "Libéria                                      2017           4702.226   \n",
       "Lesotho                                      2017           2091.534   \n",
       "Tchad                                        2017          15016.753   \n",
       "Rwanda                                       2017          11980.961   \n",
       "Mozambique                                   2017          28649.018   \n",
       "Timor-Leste                                  2017           1243.258   \n",
       "Afghanistan                                  2017          36296.113   \n",
       "\n",
       "                                            valeur_sous_nutrition  \\\n",
       "Zone                                                                \n",
       "Haïti                                                      5300.0   \n",
       "République populaire démocratique de Corée                12000.0   \n",
       "Madagascar                                                10500.0   \n",
       "Libéria                                                    1800.0   \n",
       "Lesotho                                                     800.0   \n",
       "Tchad                                                      5700.0   \n",
       "Rwanda                                                     4200.0   \n",
       "Mozambique                                                 9400.0   \n",
       "Timor-Leste                                                 400.0   \n",
       "Afghanistan                                               10500.0   \n",
       "\n",
       "                                            pourcentage_sous_nutrition  \n",
       "Zone                                                                    \n",
       "Haïti                                                            48.26  \n",
       "République populaire démocratique de Corée                       47.19  \n",
       "Madagascar                                                       41.06  \n",
       "Libéria                                                          38.28  \n",
       "Lesotho                                                          38.25  \n",
       "Tchad                                                            37.96  \n",
       "Rwanda                                                           35.06  \n",
       "Mozambique                                                       32.81  \n",
       "Timor-Leste                                                      32.17  \n",
       "Afghanistan                                                      28.93  "
      ]
     },
     "execution_count": 64,
     "metadata": {},
     "output_type": "execute_result"
    }
   ],
   "source": [
    "#On affiche les 10 pays avec le taux de sous-nutriton les plus élevés en 2017\n",
    "df2017.sort_values(by = 'pourcentage_sous_nutrition', ascending = False).head(10)"
   ]
  },
  {
   "cell_type": "code",
   "execution_count": 65,
   "metadata": {},
   "outputs": [
    {
     "data": {
      "image/png": "[encoded data removed]",
      "text/plain": [
       "<Figure size 1080x360 with 1 Axes>"
      ]
     },
     "metadata": {
      "needs_background": "light"
     },
     "output_type": "display_data"
    }
   ],
   "source": [
    "#On affiche un graphique avec les 10 pays qui ont le plus gros pourcentage de sous-nutrition\n",
    "top_10_nutri = df2017.sort_values(by = 'pourcentage_sous_nutrition', ascending = False)[:10]\n",
    "plt.figure(figsize = (15, 5))\n",
    "sns.barplot(data=top_10_nutri, x=\"pourcentage_sous_nutrition\", y=top_10_nutri.index)\n",
    "plt.tight_layout()\n",
    "plt.title(\"Top 10 des pays qui ont le plus gros % de sous-nutrition\")\n",
    "plt.show()"
   ]
  },
  {
   "cell_type": "markdown",
   "metadata": {},
   "source": [
    "## Question 2: Les pays qui ont le plus bénéficié d’aide depuis 2013"
   ]
  },
  {
   "cell_type": "code",
   "execution_count": 66,
   "metadata": {},
   "outputs": [],
   "source": [
    "#On ouvre le fichier csv 'dispo alimentaire' dans un dataframe aappelé df_dispo\n",
    "df_aide = pd.read_csv(filepath_or_buffer= 'aide_alimentaire.csv' ,sep = ',' ,header = 0 , index_col = 0)"
   ]
  },
  {
   "cell_type": "code",
   "execution_count": 67,
   "metadata": {},
   "outputs": [
    {
     "data": {
      "text/html": [
       "<div>\n",
       "<style scoped>\n",
       "    .dataframe tbody tr th:only-of-type {\n",
       "        vertical-align: middle;\n",
       "    }\n",
       "\n",
       "    .dataframe tbody tr th {\n",
       "        vertical-align: top;\n",
       "    }\n",
       "\n",
       "    .dataframe thead th {\n",
       "        text-align: right;\n",
       "    }\n",
       "</style>\n",
       "<table border=\"1\" class=\"dataframe\">\n",
       "  <thead>\n",
       "    <tr style=\"text-align: right;\">\n",
       "      <th></th>\n",
       "      <th>Année</th>\n",
       "      <th>Produit</th>\n",
       "      <th>Valeur</th>\n",
       "    </tr>\n",
       "    <tr>\n",
       "      <th>Pays bénéficiaire</th>\n",
       "      <th></th>\n",
       "      <th></th>\n",
       "      <th></th>\n",
       "    </tr>\n",
       "  </thead>\n",
       "  <tbody>\n",
       "    <tr>\n",
       "      <th>Afghanistan</th>\n",
       "      <td>2013</td>\n",
       "      <td>Autres non-céréales</td>\n",
       "      <td>682</td>\n",
       "    </tr>\n",
       "    <tr>\n",
       "      <th>Afghanistan</th>\n",
       "      <td>2014</td>\n",
       "      <td>Autres non-céréales</td>\n",
       "      <td>335</td>\n",
       "    </tr>\n",
       "    <tr>\n",
       "      <th>Afghanistan</th>\n",
       "      <td>2013</td>\n",
       "      <td>Blé et Farin</td>\n",
       "      <td>39224</td>\n",
       "    </tr>\n",
       "    <tr>\n",
       "      <th>Afghanistan</th>\n",
       "      <td>2014</td>\n",
       "      <td>Blé et Farin</td>\n",
       "      <td>15160</td>\n",
       "    </tr>\n",
       "    <tr>\n",
       "      <th>Afghanistan</th>\n",
       "      <td>2013</td>\n",
       "      <td>Céréales</td>\n",
       "      <td>40504</td>\n",
       "    </tr>\n",
       "  </tbody>\n",
       "</table>\n",
       "</div>"
      ],
      "text/plain": [
       "                   Année              Produit  Valeur\n",
       "Pays bénéficiaire                                    \n",
       "Afghanistan         2013  Autres non-céréales     682\n",
       "Afghanistan         2014  Autres non-céréales     335\n",
       "Afghanistan         2013         Blé et Farin   39224\n",
       "Afghanistan         2014         Blé et Farin   15160\n",
       "Afghanistan         2013             Céréales   40504"
      ]
     },
     "execution_count": 67,
     "metadata": {},
     "output_type": "execute_result"
    }
   ],
   "source": [
    "#On affiche df_aide\n",
    "df_aide.head()"
   ]
  },
  {
   "cell_type": "markdown",
   "metadata": {},
   "source": [
    "\tUn fichier d’aide alimentaire qui contient :\n",
    "-\tLe pays bénéficiaire.\n",
    "-\tL’année.\n",
    "-\tLe produit.\n",
    "-\tLa quantité qui a été donnée comme aide alimentaire, en tonnes.\n"
   ]
  },
  {
   "cell_type": "code",
   "execution_count": 68,
   "metadata": {},
   "outputs": [
    {
     "data": {
      "text/html": [
       "<div>\n",
       "<style scoped>\n",
       "    .dataframe tbody tr th:only-of-type {\n",
       "        vertical-align: middle;\n",
       "    }\n",
       "\n",
       "    .dataframe tbody tr th {\n",
       "        vertical-align: top;\n",
       "    }\n",
       "\n",
       "    .dataframe thead th {\n",
       "        text-align: right;\n",
       "    }\n",
       "</style>\n",
       "<table border=\"1\" class=\"dataframe\">\n",
       "  <thead>\n",
       "    <tr style=\"text-align: right;\">\n",
       "      <th></th>\n",
       "      <th>Valeur</th>\n",
       "    </tr>\n",
       "    <tr>\n",
       "      <th>Pays bénéficiaire</th>\n",
       "      <th></th>\n",
       "    </tr>\n",
       "  </thead>\n",
       "  <tbody>\n",
       "    <tr>\n",
       "      <th>Afghanistan</th>\n",
       "      <td>185452</td>\n",
       "    </tr>\n",
       "    <tr>\n",
       "      <th>Algérie</th>\n",
       "      <td>81114</td>\n",
       "    </tr>\n",
       "    <tr>\n",
       "      <th>Angola</th>\n",
       "      <td>5014</td>\n",
       "    </tr>\n",
       "    <tr>\n",
       "      <th>Bangladesh</th>\n",
       "      <td>348188</td>\n",
       "    </tr>\n",
       "    <tr>\n",
       "      <th>Bhoutan</th>\n",
       "      <td>2666</td>\n",
       "    </tr>\n",
       "  </tbody>\n",
       "</table>\n",
       "</div>"
      ],
      "text/plain": [
       "                   Valeur\n",
       "Pays bénéficiaire        \n",
       "Afghanistan        185452\n",
       "Algérie             81114\n",
       "Angola               5014\n",
       "Bangladesh         348188\n",
       "Bhoutan              2666"
      ]
     },
     "execution_count": 68,
     "metadata": {},
     "output_type": "execute_result"
    }
   ],
   "source": [
    "#On supprimme les colonne Produit et année\n",
    "df_aide_recu= df_aide.drop(columns=['Produit', 'Année'])\n",
    "\n",
    "#On affiche le dataframe de façon plus lisible, en groupant par Pays et Année, puis en fesant la sommes des lignes groupées\n",
    "df_aide_recu = df_aide.groupby(['Pays bénéficiaire']).agg({'Valeur': np.sum})\n",
    "df_aide_recu.head()"
   ]
  },
  {
   "cell_type": "code",
   "execution_count": 69,
   "metadata": {},
   "outputs": [
    {
     "data": {
      "text/html": [
       "<div>\n",
       "<style scoped>\n",
       "    .dataframe tbody tr th:only-of-type {\n",
       "        vertical-align: middle;\n",
       "    }\n",
       "\n",
       "    .dataframe tbody tr th {\n",
       "        vertical-align: top;\n",
       "    }\n",
       "\n",
       "    .dataframe thead th {\n",
       "        text-align: right;\n",
       "    }\n",
       "</style>\n",
       "<table border=\"1\" class=\"dataframe\">\n",
       "  <thead>\n",
       "    <tr style=\"text-align: right;\">\n",
       "      <th></th>\n",
       "      <th>Valeur</th>\n",
       "    </tr>\n",
       "    <tr>\n",
       "      <th>Pays bénéficiaire</th>\n",
       "      <th></th>\n",
       "    </tr>\n",
       "  </thead>\n",
       "  <tbody>\n",
       "    <tr>\n",
       "      <th>République arabe syrienne</th>\n",
       "      <td>1858943</td>\n",
       "    </tr>\n",
       "    <tr>\n",
       "      <th>Éthiopie</th>\n",
       "      <td>1381294</td>\n",
       "    </tr>\n",
       "    <tr>\n",
       "      <th>Yémen</th>\n",
       "      <td>1206484</td>\n",
       "    </tr>\n",
       "    <tr>\n",
       "      <th>Soudan du Sud</th>\n",
       "      <td>695248</td>\n",
       "    </tr>\n",
       "    <tr>\n",
       "      <th>Soudan</th>\n",
       "      <td>669784</td>\n",
       "    </tr>\n",
       "    <tr>\n",
       "      <th>Kenya</th>\n",
       "      <td>552836</td>\n",
       "    </tr>\n",
       "    <tr>\n",
       "      <th>Bangladesh</th>\n",
       "      <td>348188</td>\n",
       "    </tr>\n",
       "    <tr>\n",
       "      <th>Somalie</th>\n",
       "      <td>292678</td>\n",
       "    </tr>\n",
       "    <tr>\n",
       "      <th>République démocratique du Congo</th>\n",
       "      <td>288502</td>\n",
       "    </tr>\n",
       "    <tr>\n",
       "      <th>Niger</th>\n",
       "      <td>276344</td>\n",
       "    </tr>\n",
       "  </tbody>\n",
       "</table>\n",
       "</div>"
      ],
      "text/plain": [
       "                                   Valeur\n",
       "Pays bénéficiaire                        \n",
       "République arabe syrienne         1858943\n",
       "Éthiopie                          1381294\n",
       "Yémen                             1206484\n",
       "Soudan du Sud                      695248\n",
       "Soudan                             669784\n",
       "Kenya                              552836\n",
       "Bangladesh                         348188\n",
       "Somalie                            292678\n",
       "République démocratique du Congo   288502\n",
       "Niger                              276344"
      ]
     },
     "execution_count": 69,
     "metadata": {},
     "output_type": "execute_result"
    }
   ],
   "source": [
    "\n",
    "#On affiche les 10 pays qui ont le plus bénéficié d'aide depuis 2013\n",
    "df_aide_recu.sort_values(by = 'Valeur', ascending = False).head(10)"
   ]
  },
  {
   "cell_type": "code",
   "execution_count": 70,
   "metadata": {},
   "outputs": [
    {
     "data": {
      "text/plain": [
       "<function matplotlib.pyplot.show(close=None, block=None)>"
      ]
     },
     "execution_count": 70,
     "metadata": {},
     "output_type": "execute_result"
    },
    {
     "data": {
      "image/png": "[encoded data removed]",
      "text/plain": [
       "<Figure size 720x360 with 1 Axes>"
      ]
     },
     "metadata": {
      "needs_background": "light"
     },
     "output_type": "display_data"
    }
   ],
   "source": [
    "#On affiche un graphique avec les 10 pays qui ont reçu le plus d'aide alimentaire depuis 2013\n",
    "top_10_aide = df_aide_recu.sort_values(by = 'Valeur', ascending = False)[:10]\n",
    "plt.figure(figsize = (10, 5))\n",
    "sns.barplot(data=top_10_aide, x=\"Valeur\", y=top_10_aide.index)\n",
    "plt.tight_layout()\n",
    "plt.title(\"Top 10 des pays qui ont reçu le plus d'aide alimentaire, valeur en million de tonnes\")\n",
    "plt.show"
   ]
  },
  {
   "cell_type": "markdown",
   "metadata": {},
   "source": [
    "## Question 3: Les pays ayant le plus de disponibilité/habitant"
   ]
  },
  {
   "cell_type": "code",
   "execution_count": 71,
   "metadata": {},
   "outputs": [],
   "source": [
    "#On regroupe par Zone(Pays), puis en fesant la sommes des lignes groupées dans un dataframe appelé top_dispo\n",
    "top_dispo = df_dispo.groupby(['Zone']).agg({\n",
    "'Aliments pour animaux': np.sum,'Autres Utilisations': np.sum,'Disponibilité alimentaire (Kcal/personne/jour)': np.sum,\n",
    "'Disponibilité alimentaire en quantité (kg/personne/an)': np.sum,'Disponibilité de matière grasse en quantité (g/personne/jour)': np.sum,\n",
    "'Disponibilité de protéines en quantité (g/personne/jour)': np.sum,'Disponibilité intérieure': np.sum,\n",
    "'Exportations - Quantité': np.sum,'Importations - Quantité': np.sum,'Nourriture': np.sum,'Pertes': np.sum,'Production': np.sum,'Semences': np.sum,\n",
    "'Traitement': np.sum,'Variation de stock': np.sum})\n",
    "#On rajoute un index a top_dispo\n",
    "top_dispo = top_dispo.reset_index()\n"
   ]
  },
  {
   "cell_type": "code",
   "execution_count": 72,
   "metadata": {},
   "outputs": [
    {
     "data": {
      "image/png": "[encoded data removed]",
      "text/plain": [
       "<Figure size 720x360 with 1 Axes>"
      ]
     },
     "metadata": {
      "needs_background": "light"
     },
     "output_type": "display_data"
    }
   ],
   "source": [
    "#On affiche les 10 pays qui ont le plus de disponibilité alimentaire/habitant sur un graphique\n",
    "top_10_dispo = top_dispo.sort_values(by = 'Disponibilité alimentaire (Kcal/personne/jour)', ascending = False)[:10]\n",
    "plt.figure(figsize = (10, 5))\n",
    "sns.barplot(data=top_10_dispo, x=\"Disponibilité alimentaire (Kcal/personne/jour)\", y=top_10_dispo.Zone)\n",
    "plt.tight_layout()\n",
    "plt.title(\"Top 10 des pays qui ont le plus de disponibilité/habitant\")\n",
    "plt.show()"
   ]
  },
  {
   "cell_type": "markdown",
   "metadata": {},
   "source": [
    "## Question 4: Les pays ayant le moins de disponibilité/habitant"
   ]
  },
  {
   "cell_type": "code",
   "execution_count": 73,
   "metadata": {},
   "outputs": [
    {
     "data": {
      "image/png": "[encoded data removed]",
      "text/plain": [
       "<Figure size 720x360 with 1 Axes>"
      ]
     },
     "metadata": {
      "needs_background": "light"
     },
     "output_type": "display_data"
    }
   ],
   "source": [
    "#On affiche les 10 pays qui ont le moins de disponibilité alimentaire/habitant sur un graphique\n",
    "bottom_10_dispo = top_dispo.sort_values(by = 'Disponibilité alimentaire (Kcal/personne/jour)', ascending = True)[:10]\n",
    "plt.figure(figsize = (10, 5))\n",
    "sns.barplot(data=bottom_10_dispo, x=\"Disponibilité alimentaire (Kcal/personne/jour)\", y=bottom_10_dispo.Zone)\n",
    "plt.tight_layout()\n",
    "plt.title(\"Top 10 des pays qui ont le moins de disponibilité/habitant\")\n",
    "plt.show()"
   ]
  },
  {
   "cell_type": "markdown",
   "metadata": {},
   "source": [
    "## Question 5: Complement d'étude"
   ]
  },
  {
   "cell_type": "code",
   "execution_count": 74,
   "metadata": {},
   "outputs": [
    {
     "data": {
      "image/png": "[encoded data removed]",
      "text/plain": [
       "<Figure size 720x360 with 1 Axes>"
      ]
     },
     "metadata": {
      "needs_background": "light"
     },
     "output_type": "display_data"
    }
   ],
   "source": [
    "#On affiche les 10 pays qui produisent le plus sur un graphique\n",
    "top_10_prod = top_dispo.sort_values(by = 'Production', ascending = False)[:10]\n",
    "plt.figure(figsize = (10, 5))\n",
    "sns.barplot(data=top_10_prod, x=\"Production\", y=top_10_prod.Zone)\n",
    "plt.tight_layout()\n",
    "plt.title(\"Top 10 des pays qui ont le plus de production\")\n",
    "plt.show()"
   ]
  },
  {
   "cell_type": "code",
   "execution_count": 75,
   "metadata": {},
   "outputs": [
    {
     "data": {
      "image/png": "[encoded data removed]",
      "text/plain": [
       "<Figure size 720x360 with 1 Axes>"
      ]
     },
     "metadata": {
      "needs_background": "light"
     },
     "output_type": "display_data"
    }
   ],
   "source": [
    "#On affiche les 10 pays avec le moins de production sur un graphique\n",
    "bottom_10_prod = top_dispo.sort_values(by = 'Production', ascending = True)[:10]\n",
    "plt.figure(figsize = (10, 5))\n",
    "sns.barplot(data=bottom_10_prod, x=\"Production\", y=bottom_10_prod.Zone)\n",
    "plt.tight_layout()\n",
    "plt.title(\"Top 10 des pays qui ont le moins de Production\")\n",
    "plt.show()"
   ]
  },
  {
   "cell_type": "code",
   "execution_count": 76,
   "metadata": {},
   "outputs": [
    {
     "name": "stdout",
     "output_type": "stream",
     "text": [
      "Sur les 10 pays en sous-nutriton , 6 font partis des pays avec le moins de disponibilité/habitants\n"
     ]
    },
    {
     "data": {
      "image/png": "[encoded data removed]",
      "text/plain": [
       "<Figure size 1080x720 with 2 Axes>"
      ]
     },
     "metadata": {
      "needs_background": "light"
     },
     "output_type": "display_data"
    }
   ],
   "source": [
    "#On compare deux graphique\n",
    "\n",
    "fig = plt.figure(figsize=(15,10))\n",
    "\n",
    "plt.subplot(221)\n",
    "sns.barplot(data=top_10_nutri, x=\"pourcentage_sous_nutrition\", y=top_10_nutri.index)\n",
    "plt.tight_layout()\n",
    "plt.title(\"Top 10 des pays qui ont le plus gros % de sous-nutrition\")\n",
    "\n",
    "\n",
    "plt.subplot(222)\n",
    "sns.barplot(data=bottom_10_dispo, x=\"Disponibilité alimentaire (Kcal/personne/jour)\", y=bottom_10_dispo.Zone)\n",
    "plt.tight_layout()\n",
    "plt.title(\"Top 10 des pays qui ont le moins de disponibilité/habitant\")\n",
    "\n",
    "print(\"Sur les 10 pays en sous-nutriton , 6 font partis des pays avec le moins de disponibilité/habitants\")"
   ]
  },
  {
   "cell_type": "code",
   "execution_count": 77,
   "metadata": {},
   "outputs": [
    {
     "name": "stdout",
     "output_type": "stream",
     "text": [
      "Parmi les 10 pays qui ont le moins de production, aucun ne fait parti des 10 pays qui reçoient le plus d'aide alimentaire depuis 2013 \n"
     ]
    },
    {
     "data": {
      "image/png": "[encoded data removed]",
      "text/plain": [
       "<Figure size 1080x720 with 2 Axes>"
      ]
     },
     "metadata": {
      "needs_background": "light"
     },
     "output_type": "display_data"
    }
   ],
   "source": [
    "#On compare deux graphique\n",
    "\n",
    "fig = plt.figure(figsize=(15,10))\n",
    "\n",
    "plt.subplot(221)\n",
    "sns.barplot(data=bottom_10_prod, x=\"Production\", y=bottom_10_prod.Zone)\n",
    "plt.tight_layout()\n",
    "plt.title(\"Top 10 des pays qui ont le moins de Production\")\n",
    "\n",
    "\n",
    "plt.subplot(222)\n",
    "sns.barplot(data=top_10_aide, x=\"Valeur\", y=top_10_aide.index)\n",
    "plt.tight_layout()\n",
    "plt.title(\"Top 10 des pays qui ont reçu le plus d'aide alimentaire, valeur en million de tonnes\")\n",
    "\n",
    "print(\"Parmi les 10 pays qui ont le moins de production, aucun ne fait parti des 10 pays qui reçoient le plus d'aide alimentaire depuis 2013 \")"
   ]
  },
  {
   "cell_type": "code",
   "execution_count": 78,
   "metadata": {},
   "outputs": [
    {
     "data": {
      "text/html": [
       "<div>\n",
       "<style scoped>\n",
       "    .dataframe tbody tr th:only-of-type {\n",
       "        vertical-align: middle;\n",
       "    }\n",
       "\n",
       "    .dataframe tbody tr th {\n",
       "        vertical-align: top;\n",
       "    }\n",
       "\n",
       "    .dataframe thead th {\n",
       "        text-align: right;\n",
       "    }\n",
       "</style>\n",
       "<table border=\"1\" class=\"dataframe\">\n",
       "  <thead>\n",
       "    <tr style=\"text-align: right;\">\n",
       "      <th></th>\n",
       "      <th>Valeur</th>\n",
       "    </tr>\n",
       "    <tr>\n",
       "      <th>Pays bénéficiaire</th>\n",
       "      <th></th>\n",
       "    </tr>\n",
       "  </thead>\n",
       "  <tbody>\n",
       "    <tr>\n",
       "      <th>République arabe syrienne</th>\n",
       "      <td>1858943</td>\n",
       "    </tr>\n",
       "    <tr>\n",
       "      <th>Éthiopie</th>\n",
       "      <td>1381294</td>\n",
       "    </tr>\n",
       "    <tr>\n",
       "      <th>Yémen</th>\n",
       "      <td>1206484</td>\n",
       "    </tr>\n",
       "    <tr>\n",
       "      <th>Soudan du Sud</th>\n",
       "      <td>695248</td>\n",
       "    </tr>\n",
       "    <tr>\n",
       "      <th>Soudan</th>\n",
       "      <td>669784</td>\n",
       "    </tr>\n",
       "    <tr>\n",
       "      <th>Kenya</th>\n",
       "      <td>552836</td>\n",
       "    </tr>\n",
       "    <tr>\n",
       "      <th>Bangladesh</th>\n",
       "      <td>348188</td>\n",
       "    </tr>\n",
       "    <tr>\n",
       "      <th>Somalie</th>\n",
       "      <td>292678</td>\n",
       "    </tr>\n",
       "    <tr>\n",
       "      <th>République démocratique du Congo</th>\n",
       "      <td>288502</td>\n",
       "    </tr>\n",
       "    <tr>\n",
       "      <th>Niger</th>\n",
       "      <td>276344</td>\n",
       "    </tr>\n",
       "  </tbody>\n",
       "</table>\n",
       "</div>"
      ],
      "text/plain": [
       "                                   Valeur\n",
       "Pays bénéficiaire                        \n",
       "République arabe syrienne         1858943\n",
       "Éthiopie                          1381294\n",
       "Yémen                             1206484\n",
       "Soudan du Sud                      695248\n",
       "Soudan                             669784\n",
       "Kenya                              552836\n",
       "Bangladesh                         348188\n",
       "Somalie                            292678\n",
       "République démocratique du Congo   288502\n",
       "Niger                              276344"
      ]
     },
     "execution_count": 78,
     "metadata": {},
     "output_type": "execute_result"
    }
   ],
   "source": [
    "top_10_aide.head(10)"
   ]
  },
  {
   "cell_type": "code",
   "execution_count": 79,
   "metadata": {},
   "outputs": [
    {
     "data": {
      "image/png": "[encoded data removed]",
      "text/plain": [
       "<Figure size 720x360 with 1 Axes>"
      ]
     },
     "metadata": {
      "needs_background": "light"
     },
     "output_type": "display_data"
    }
   ],
   "source": [
    "#On affiche les 10 pays qui exportent le plus sur un graphique\n",
    "top_10_expor = top_dispo.sort_values(by = 'Exportations - Quantité', ascending = False)[:10]\n",
    "plt.figure(figsize = (10, 5))\n",
    "sns.barplot(data=top_10_expor, x=\"Exportations - Quantité\", y=top_10_expor.Zone)\n",
    "plt.tight_layout()\n",
    "plt.title(\"Top 10 des pays qui ont le plus d'exportation\")\n",
    "plt.show()"
   ]
  },
  {
   "cell_type": "code",
   "execution_count": 81,
   "metadata": {},
   "outputs": [
    {
     "name": "stdout",
     "output_type": "stream",
     "text": [
      "Parmi les 10 pays qui ont letaux le plus important de sous-nutrition, aucun ne fait parti des 10 pays qui reçoient le plus d'aide alimentaire depuis 2013 \n"
     ]
    },
    {
     "data": {
      "image/png": "[encoded data removed]",
      "text/plain": [
       "<Figure size 1080x720 with 2 Axes>"
      ]
     },
     "metadata": {
      "needs_background": "light"
     },
     "output_type": "display_data"
    }
   ],
   "source": [
    "#On compare deux graphique\n",
    "\n",
    "fig = plt.figure(figsize=(15,10))\n",
    "\n",
    "plt.subplot(221)\n",
    "sns.barplot(data=top_10_nutri, x=\"pourcentage_sous_nutrition\", y=top_10_nutri.index)\n",
    "plt.tight_layout()\n",
    "plt.title(\"Top 10 des pays qui ont le plus gros % de sous-nutrition\")\n",
    "\n",
    "\n",
    "plt.subplot(222)\n",
    "sns.barplot(data=top_10_aide, x=\"Valeur\", y=top_10_aide.index)\n",
    "plt.tight_layout()\n",
    "plt.title(\"Top 10 des pays qui ont reçu le plus d'aide alimentaire, valeur en million de tonnes\")\n",
    "\n",
    "print(\"Parmi les 10 pays qui ont letaux le plus important de sous-nutrition, aucun ne fait parti des 10 pays qui reçoient le plus d'aide alimentaire depuis 2013 \")"
   ]
  }
 ],
 "metadata": {
  "kernelspec": {
   "display_name": "Python 3",
   "language": "python",
   "name": "python3"
  },
  "language_info": {
   "codemirror_mode": {
    "name": "ipython",
    "version": 3
   },
   "file_extension": ".py",
   "mimetype": "text/x-python",
   "name": "python",
   "nbconvert_exporter": "python",
   "pygments_lexer": "ipython3",
   "version": "3.8.5"
  }
 },
 "nbformat": 4,
 "nbformat_minor": 4
}
